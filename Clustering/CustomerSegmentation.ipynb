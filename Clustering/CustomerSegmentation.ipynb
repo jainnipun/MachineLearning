{
  "nbformat": 4,
  "nbformat_minor": 0,
  "metadata": {
    "colab": {
      "name": "CustomerSegmentation.ipynb",
      "version": "0.3.2",
      "provenance": [],
      "collapsed_sections": [],
      "include_colab_link": true
    },
    "kernelspec": {
      "name": "python3",
      "display_name": "Python 3"
    }
  },
  "cells": [
    {
      "cell_type": "markdown",
      "metadata": {
        "id": "view-in-github",
        "colab_type": "text"
      },
      "source": [
        "<a href=\"https://colab.research.google.com/github/jainnipun/MachineLearning/blob/master/Clustering/CustomerSegmentation.ipynb\" target=\"_parent\"><img src=\"https://colab.research.google.com/assets/colab-badge.svg\" alt=\"Open In Colab\"/></a>"
      ]
    },
    {
      "metadata": {
        "id": "2javrQBdUuLg",
        "colab_type": "code",
        "colab": {}
      },
      "cell_type": "code",
      "source": [
        "# Run this cell and select the kaggle.json file downloaded\n",
        "# from the Kaggle account settings page.\n",
        "from google.colab import files\n",
        "#files.upload()"
      ],
      "execution_count": 0,
      "outputs": []
    },
    {
      "metadata": {
        "id": "BO5yw48Ko_vO",
        "colab_type": "code",
        "colab": {}
      },
      "cell_type": "code",
      "source": [
        "\n",
        "#Install the Kaggle API client.\n",
        "!pip install -q kaggle"
      ],
      "execution_count": 0,
      "outputs": []
    },
    {
      "metadata": {
        "id": "kFlMekbLpDGi",
        "colab_type": "code",
        "colab": {}
      },
      "cell_type": "code",
      "source": [
        "# The Kaggle API client expects this file to be in ~/.kaggle,\n",
        "# so move it there.\n",
        "!mkdir -p ~/.kaggle\n",
        "!cp kaggle.json ~/.kaggle/"
      ],
      "execution_count": 0,
      "outputs": []
    },
    {
      "metadata": {
        "id": "MsAhRY_7ifBg",
        "colab_type": "code",
        "colab": {}
      },
      "cell_type": "code",
      "source": [
        "# This permissions change avoids a warning on Kaggle tool startup.\n",
        "!chmod 600 ~/.kaggle/kaggle.json"
      ],
      "execution_count": 0,
      "outputs": []
    },
    {
      "metadata": {
        "id": "XDvoij9NV-ay",
        "colab_type": "code",
        "colab": {}
      },
      "cell_type": "code",
      "source": [
        "#!kaggle datasets list"
      ],
      "execution_count": 0,
      "outputs": []
    },
    {
      "metadata": {
        "id": "6YWZGOu1WW2x",
        "colab_type": "code",
        "colab": {}
      },
      "cell_type": "code",
      "source": [
        "#!kaggle competitions download -c microsoft-malware-prediction"
      ],
      "execution_count": 0,
      "outputs": []
    },
    {
      "metadata": {
        "id": "_cKDZ0YuVXu0",
        "colab_type": "code",
        "colab": {}
      },
      "cell_type": "code",
      "source": [
        "#!kaggle datasets download -d lava18/google-play-store-apps"
      ],
      "execution_count": 0,
      "outputs": []
    },
    {
      "metadata": {
        "id": "X_xU_wfeZEiE",
        "colab_type": "code",
        "outputId": "916d7761-4fbf-49df-8f96-1a825da9276f",
        "colab": {
          "base_uri": "https://localhost:8080/",
          "height": 72
        }
      },
      "cell_type": "code",
      "source": [
        "!kaggle datasets download -d carrie1/ecommerce-data"
      ],
      "execution_count": 13,
      "outputs": [
        {
          "output_type": "stream",
          "text": [
            "Downloading ecommerce-data.zip to /content\n",
            "\r  0% 0.00/7.95M [00:00<?, ?B/s]\r 63% 5.00M/7.95M [00:00<00:00, 36.5MB/s]\n",
            "\r100% 7.95M/7.95M [00:00<00:00, 50.6MB/s]\n"
          ],
          "name": "stdout"
        }
      ]
    },
    {
      "metadata": {
        "id": "XN8A-g0gfde2",
        "colab_type": "code",
        "outputId": "54f8f8e6-c8d3-4508-ac3c-35a65654dbf5",
        "colab": {
          "base_uri": "https://localhost:8080/",
          "height": 54
        }
      },
      "cell_type": "code",
      "source": [
        "!unzip -d ecommerce ecommerce-data.zip"
      ],
      "execution_count": 14,
      "outputs": [
        {
          "output_type": "stream",
          "text": [
            "Archive:  ecommerce-data.zip\n",
            "  inflating: ecommerce/data.csv      \n"
          ],
          "name": "stdout"
        }
      ]
    },
    {
      "metadata": {
        "id": "e1sCUqKrfeFN",
        "colab_type": "code",
        "outputId": "0295de9c-f456-4312-aee5-8fa3eb6e73e0",
        "colab": {
          "base_uri": "https://localhost:8080/",
          "height": 35
        }
      },
      "cell_type": "code",
      "source": [
        "!ls -a"
      ],
      "execution_count": 15,
      "outputs": [
        {
          "output_type": "stream",
          "text": [
            ".  ..  .config\tecommerce  ecommerce-data.zip  kaggle.json  sample_data\n"
          ],
          "name": "stdout"
        }
      ]
    },
    {
      "metadata": {
        "id": "LWxlwjxHfgbt",
        "colab_type": "code",
        "outputId": "1295f13f-96e8-45e0-dd27-386f8d0e67a2",
        "colab": {
          "base_uri": "https://localhost:8080/",
          "height": 35
        }
      },
      "cell_type": "code",
      "source": [
        "!ls ecommerce"
      ],
      "execution_count": 16,
      "outputs": [
        {
          "output_type": "stream",
          "text": [
            "data.csv\n"
          ],
          "name": "stdout"
        }
      ]
    },
    {
      "metadata": {
        "id": "hvZgZanffi71",
        "colab_type": "code",
        "colab": {}
      },
      "cell_type": "code",
      "source": [
        "import pandas as pd\n",
        "data=pd.read_csv('ecommerce/data.csv',encoding = \"ISO-8859-1\")"
      ],
      "execution_count": 0,
      "outputs": []
    },
    {
      "metadata": {
        "id": "dJNrs9tSi5AQ",
        "colab_type": "code",
        "colab": {}
      },
      "cell_type": "code",
      "source": [
        "import datetime\n",
        "\n",
        "data['InvoiceDate'] = data['InvoiceDate'].apply(lambda x: datetime.datetime.strptime(x, \"%m/%d/%Y %H:%M\").strftime(\"%Y-%m-%d\"))"
      ],
      "execution_count": 0,
      "outputs": []
    },
    {
      "metadata": {
        "id": "bC4H3m90mY3b",
        "colab_type": "code",
        "outputId": "2844adb1-784a-4787-963d-ecd0b4bbaa64",
        "colab": {
          "base_uri": "https://localhost:8080/",
          "height": 54
        }
      },
      "cell_type": "code",
      "source": [
        "print(data['InvoiceDate'].min())\n",
        "print(data['InvoiceDate'].max())\n",
        "max_date = data['InvoiceDate'].max()"
      ],
      "execution_count": 19,
      "outputs": [
        {
          "output_type": "stream",
          "text": [
            "2010-12-01\n",
            "2011-12-09\n"
          ],
          "name": "stdout"
        }
      ]
    },
    {
      "metadata": {
        "id": "4W9CyZSgAKjU",
        "colab_type": "code",
        "colab": {}
      },
      "cell_type": "code",
      "source": [
        "data['Amount'] = data['Quantity'] * data['UnitPrice']"
      ],
      "execution_count": 0,
      "outputs": []
    },
    {
      "metadata": {
        "id": "KmYGoHMY-yKF",
        "colab_type": "code",
        "colab": {}
      },
      "cell_type": "code",
      "source": [
        "data=data.loc[data['CustomerID'].isnull()==False]"
      ],
      "execution_count": 0,
      "outputs": []
    },
    {
      "metadata": {
        "id": "x9iuBFLNCqkO",
        "colab_type": "code",
        "colab": {}
      },
      "cell_type": "code",
      "source": [
        "#data.loc[data['Amount']==0]"
      ],
      "execution_count": 0,
      "outputs": []
    },
    {
      "metadata": {
        "id": "lMUfCJxrDiD9",
        "colab_type": "code",
        "colab": {}
      },
      "cell_type": "code",
      "source": [
        "#Removing records where Quatity is 0\n",
        "\n",
        "data = data.loc[data['Quantity']!=0]"
      ],
      "execution_count": 0,
      "outputs": []
    },
    {
      "metadata": {
        "id": "FgQbzqaMF4T_",
        "colab_type": "code",
        "colab": {}
      },
      "cell_type": "code",
      "source": [
        "#data.loc[data['CustomerID']==18274.0]\n",
        "#data.loc[data['CustomerID'] == 18276.0]\n"
      ],
      "execution_count": 0,
      "outputs": []
    },
    {
      "metadata": {
        "id": "SAiijBSDG_rO",
        "colab_type": "code",
        "colab": {}
      },
      "cell_type": "code",
      "source": [
        "#data.loc[data['CustomerID'] == 12347.0]\n"
      ],
      "execution_count": 0,
      "outputs": []
    },
    {
      "metadata": {
        "id": "SDKxFgnXBItz",
        "colab_type": "code",
        "outputId": "6171229e-1c9e-4ac5-e90e-61af65283c66",
        "colab": {
          "base_uri": "https://localhost:8080/",
          "height": 48
        }
      },
      "cell_type": "code",
      "source": [
        "#Viewing nan records - if any present in data we will rectify that\n",
        "\n",
        "nans = lambda df: df[df.isnull().any(axis=1)]\n",
        "nans(data)"
      ],
      "execution_count": 24,
      "outputs": [
        {
          "output_type": "execute_result",
          "data": {
            "text/html": [
              "<div>\n",
              "<style scoped>\n",
              "    .dataframe tbody tr th:only-of-type {\n",
              "        vertical-align: middle;\n",
              "    }\n",
              "\n",
              "    .dataframe tbody tr th {\n",
              "        vertical-align: top;\n",
              "    }\n",
              "\n",
              "    .dataframe thead th {\n",
              "        text-align: right;\n",
              "    }\n",
              "</style>\n",
              "<table border=\"1\" class=\"dataframe\">\n",
              "  <thead>\n",
              "    <tr style=\"text-align: right;\">\n",
              "      <th></th>\n",
              "      <th>InvoiceNo</th>\n",
              "      <th>StockCode</th>\n",
              "      <th>Description</th>\n",
              "      <th>Quantity</th>\n",
              "      <th>InvoiceDate</th>\n",
              "      <th>UnitPrice</th>\n",
              "      <th>CustomerID</th>\n",
              "      <th>Country</th>\n",
              "      <th>Amount</th>\n",
              "    </tr>\n",
              "  </thead>\n",
              "  <tbody>\n",
              "  </tbody>\n",
              "</table>\n",
              "</div>"
            ],
            "text/plain": [
              "Empty DataFrame\n",
              "Columns: [InvoiceNo, StockCode, Description, Quantity, InvoiceDate, UnitPrice, CustomerID, Country, Amount]\n",
              "Index: []"
            ]
          },
          "metadata": {
            "tags": []
          },
          "execution_count": 24
        }
      ]
    },
    {
      "metadata": {
        "id": "WSa2JEoW_DKu",
        "colab_type": "code",
        "colab": {}
      },
      "cell_type": "code",
      "source": [
        "#Not remove data where amount is 0 as we will consider free purchases as well\n",
        "#data = data[data.Amount != 0]"
      ],
      "execution_count": 0,
      "outputs": []
    },
    {
      "metadata": {
        "id": "AsHWAqifKCy4",
        "colab_type": "code",
        "colab": {}
      },
      "cell_type": "code",
      "source": [
        "#processedData = data.groupby(by=['CustomerID'])"
      ],
      "execution_count": 0,
      "outputs": []
    },
    {
      "metadata": {
        "id": "Jym3Q3bFKK8H",
        "colab_type": "code",
        "colab": {}
      },
      "cell_type": "code",
      "source": [
        "# Recency  - Last Transaction date\n",
        "# Frequency - Total Tranactions\n",
        "# Monetary - Total Spendings\n",
        "\n",
        "#processedData = pd.DataFrame(columns=['CustomerId', 'Recency', 'Frequency','Monetary'])\n",
        "processedData = pd.DataFrame(columns=[ 'Recency', 'Frequency','Monetary'])"
      ],
      "execution_count": 0,
      "outputs": []
    },
    {
      "metadata": {
        "id": "YuNF8uhU7ZDj",
        "colab_type": "code",
        "colab": {}
      },
      "cell_type": "code",
      "source": [
        "data_group_by_customers = data.groupby(by=['CustomerID'])"
      ],
      "execution_count": 0,
      "outputs": []
    },
    {
      "metadata": {
        "id": "7IeuYLToOomY",
        "colab_type": "code",
        "colab": {}
      },
      "cell_type": "code",
      "source": [
        "#data_group_by_customers.InvoiceNo.nunique()"
      ],
      "execution_count": 0,
      "outputs": []
    },
    {
      "metadata": {
        "id": "WhW-DbKnORVk",
        "colab_type": "code",
        "colab": {}
      },
      "cell_type": "code",
      "source": [
        "#Counting unique invoice per customer\n",
        "processedData['Frequency'] = data.groupby(by=['CustomerID']).InvoiceNo.nunique()\n",
        "\n",
        "#Fetching last invoice date per customer\n",
        "processedData['Recency']=data.groupby(by='CustomerID').max()['InvoiceDate']\n",
        "\n",
        "#Fetching total spending per customer\n",
        "processedData['Monetary'] =  data.groupby(by='CustomerID').sum()[['Amount']]\n",
        "\n",
        "#processedData['CustomerId']=(list(processedData.index.values)) "
      ],
      "execution_count": 0,
      "outputs": []
    },
    {
      "metadata": {
        "id": "zftwCHKxlRpg",
        "colab_type": "code",
        "colab": {}
      },
      "cell_type": "code",
      "source": [
        "#Removing negative records - where refund greater than purchase\n",
        "processedData = processedData.loc[processedData['Monetary']>=0.0]\n"
      ],
      "execution_count": 0,
      "outputs": []
    },
    {
      "metadata": {
        "id": "OE4PXl3-JAWl",
        "colab_type": "code",
        "colab": {}
      },
      "cell_type": "code",
      "source": [
        "import datetime\n",
        "\n",
        "now = datetime.datetime.now()\n",
        "dataset_max_date = datetime.datetime.strptime(max_date,'%Y-%m-%d')\n",
        "\n",
        "processedData['Recency']=processedData['Recency'].apply(lambda x:(dataset_max_date-datetime.datetime.strptime(x,'%Y-%m-%d')).days)\n"
      ],
      "execution_count": 0,
      "outputs": []
    },
    {
      "metadata": {
        "id": "erWgnW0TZWTa",
        "colab_type": "code",
        "outputId": "9f4b2428-a56c-41bc-e4dd-2da2471cd32d",
        "colab": {
          "base_uri": "https://localhost:8080/",
          "height": 1937
        }
      },
      "cell_type": "code",
      "source": [
        "processedData"
      ],
      "execution_count": 56,
      "outputs": [
        {
          "output_type": "execute_result",
          "data": {
            "text/html": [
              "<div>\n",
              "<style scoped>\n",
              "    .dataframe tbody tr th:only-of-type {\n",
              "        vertical-align: middle;\n",
              "    }\n",
              "\n",
              "    .dataframe tbody tr th {\n",
              "        vertical-align: top;\n",
              "    }\n",
              "\n",
              "    .dataframe thead th {\n",
              "        text-align: right;\n",
              "    }\n",
              "</style>\n",
              "<table border=\"1\" class=\"dataframe\">\n",
              "  <thead>\n",
              "    <tr style=\"text-align: right;\">\n",
              "      <th></th>\n",
              "      <th>Recency</th>\n",
              "      <th>Frequency</th>\n",
              "      <th>Monetary</th>\n",
              "    </tr>\n",
              "    <tr>\n",
              "      <th>CustomerID</th>\n",
              "      <th></th>\n",
              "      <th></th>\n",
              "      <th></th>\n",
              "    </tr>\n",
              "  </thead>\n",
              "  <tbody>\n",
              "    <tr>\n",
              "      <th>12346.0</th>\n",
              "      <td>325</td>\n",
              "      <td>2</td>\n",
              "      <td>0.000000e+00</td>\n",
              "    </tr>\n",
              "    <tr>\n",
              "      <th>12347.0</th>\n",
              "      <td>2</td>\n",
              "      <td>7</td>\n",
              "      <td>4.310000e+03</td>\n",
              "    </tr>\n",
              "    <tr>\n",
              "      <th>12348.0</th>\n",
              "      <td>75</td>\n",
              "      <td>4</td>\n",
              "      <td>1.797240e+03</td>\n",
              "    </tr>\n",
              "    <tr>\n",
              "      <th>12349.0</th>\n",
              "      <td>18</td>\n",
              "      <td>1</td>\n",
              "      <td>1.757550e+03</td>\n",
              "    </tr>\n",
              "    <tr>\n",
              "      <th>12350.0</th>\n",
              "      <td>310</td>\n",
              "      <td>1</td>\n",
              "      <td>3.344000e+02</td>\n",
              "    </tr>\n",
              "    <tr>\n",
              "      <th>12352.0</th>\n",
              "      <td>36</td>\n",
              "      <td>11</td>\n",
              "      <td>1.545410e+03</td>\n",
              "    </tr>\n",
              "    <tr>\n",
              "      <th>12353.0</th>\n",
              "      <td>204</td>\n",
              "      <td>1</td>\n",
              "      <td>8.900000e+01</td>\n",
              "    </tr>\n",
              "    <tr>\n",
              "      <th>12354.0</th>\n",
              "      <td>232</td>\n",
              "      <td>1</td>\n",
              "      <td>1.079400e+03</td>\n",
              "    </tr>\n",
              "    <tr>\n",
              "      <th>12355.0</th>\n",
              "      <td>214</td>\n",
              "      <td>1</td>\n",
              "      <td>4.594000e+02</td>\n",
              "    </tr>\n",
              "    <tr>\n",
              "      <th>12356.0</th>\n",
              "      <td>22</td>\n",
              "      <td>3</td>\n",
              "      <td>2.811430e+03</td>\n",
              "    </tr>\n",
              "    <tr>\n",
              "      <th>12357.0</th>\n",
              "      <td>33</td>\n",
              "      <td>1</td>\n",
              "      <td>6.207670e+03</td>\n",
              "    </tr>\n",
              "    <tr>\n",
              "      <th>12358.0</th>\n",
              "      <td>1</td>\n",
              "      <td>2</td>\n",
              "      <td>1.168060e+03</td>\n",
              "    </tr>\n",
              "    <tr>\n",
              "      <th>12359.0</th>\n",
              "      <td>7</td>\n",
              "      <td>6</td>\n",
              "      <td>6.245530e+03</td>\n",
              "    </tr>\n",
              "    <tr>\n",
              "      <th>12360.0</th>\n",
              "      <td>52</td>\n",
              "      <td>3</td>\n",
              "      <td>2.662060e+03</td>\n",
              "    </tr>\n",
              "    <tr>\n",
              "      <th>12361.0</th>\n",
              "      <td>287</td>\n",
              "      <td>1</td>\n",
              "      <td>1.899000e+02</td>\n",
              "    </tr>\n",
              "    <tr>\n",
              "      <th>12362.0</th>\n",
              "      <td>3</td>\n",
              "      <td>13</td>\n",
              "      <td>5.154580e+03</td>\n",
              "    </tr>\n",
              "    <tr>\n",
              "      <th>12363.0</th>\n",
              "      <td>109</td>\n",
              "      <td>2</td>\n",
              "      <td>5.520000e+02</td>\n",
              "    </tr>\n",
              "    <tr>\n",
              "      <th>12364.0</th>\n",
              "      <td>7</td>\n",
              "      <td>4</td>\n",
              "      <td>1.313100e+03</td>\n",
              "    </tr>\n",
              "    <tr>\n",
              "      <th>12365.0</th>\n",
              "      <td>291</td>\n",
              "      <td>3</td>\n",
              "      <td>3.206900e+02</td>\n",
              "    </tr>\n",
              "    <tr>\n",
              "      <th>12367.0</th>\n",
              "      <td>4</td>\n",
              "      <td>1</td>\n",
              "      <td>1.689000e+02</td>\n",
              "    </tr>\n",
              "    <tr>\n",
              "      <th>12370.0</th>\n",
              "      <td>51</td>\n",
              "      <td>4</td>\n",
              "      <td>3.545690e+03</td>\n",
              "    </tr>\n",
              "    <tr>\n",
              "      <th>12371.0</th>\n",
              "      <td>44</td>\n",
              "      <td>2</td>\n",
              "      <td>1.887960e+03</td>\n",
              "    </tr>\n",
              "    <tr>\n",
              "      <th>12372.0</th>\n",
              "      <td>71</td>\n",
              "      <td>3</td>\n",
              "      <td>1.298040e+03</td>\n",
              "    </tr>\n",
              "    <tr>\n",
              "      <th>12373.0</th>\n",
              "      <td>311</td>\n",
              "      <td>1</td>\n",
              "      <td>3.646000e+02</td>\n",
              "    </tr>\n",
              "    <tr>\n",
              "      <th>12374.0</th>\n",
              "      <td>25</td>\n",
              "      <td>1</td>\n",
              "      <td>7.429300e+02</td>\n",
              "    </tr>\n",
              "    <tr>\n",
              "      <th>12375.0</th>\n",
              "      <td>2</td>\n",
              "      <td>3</td>\n",
              "      <td>4.554200e+02</td>\n",
              "    </tr>\n",
              "    <tr>\n",
              "      <th>12377.0</th>\n",
              "      <td>315</td>\n",
              "      <td>2</td>\n",
              "      <td>1.628120e+03</td>\n",
              "    </tr>\n",
              "    <tr>\n",
              "      <th>12378.0</th>\n",
              "      <td>129</td>\n",
              "      <td>1</td>\n",
              "      <td>4.008620e+03</td>\n",
              "    </tr>\n",
              "    <tr>\n",
              "      <th>12379.0</th>\n",
              "      <td>81</td>\n",
              "      <td>3</td>\n",
              "      <td>8.502900e+02</td>\n",
              "    </tr>\n",
              "    <tr>\n",
              "      <th>12380.0</th>\n",
              "      <td>21</td>\n",
              "      <td>5</td>\n",
              "      <td>2.720560e+03</td>\n",
              "    </tr>\n",
              "    <tr>\n",
              "      <th>...</th>\n",
              "      <td>...</td>\n",
              "      <td>...</td>\n",
              "      <td>...</td>\n",
              "    </tr>\n",
              "    <tr>\n",
              "      <th>18242.0</th>\n",
              "      <td>72</td>\n",
              "      <td>4</td>\n",
              "      <td>2.232490e+03</td>\n",
              "    </tr>\n",
              "    <tr>\n",
              "      <th>18245.0</th>\n",
              "      <td>7</td>\n",
              "      <td>8</td>\n",
              "      <td>2.507560e+03</td>\n",
              "    </tr>\n",
              "    <tr>\n",
              "      <th>18246.0</th>\n",
              "      <td>23</td>\n",
              "      <td>2</td>\n",
              "      <td>5.961000e+02</td>\n",
              "    </tr>\n",
              "    <tr>\n",
              "      <th>18248.0</th>\n",
              "      <td>113</td>\n",
              "      <td>4</td>\n",
              "      <td>7.830200e+02</td>\n",
              "    </tr>\n",
              "    <tr>\n",
              "      <th>18249.0</th>\n",
              "      <td>17</td>\n",
              "      <td>1</td>\n",
              "      <td>9.534000e+01</td>\n",
              "    </tr>\n",
              "    <tr>\n",
              "      <th>18250.0</th>\n",
              "      <td>301</td>\n",
              "      <td>2</td>\n",
              "      <td>3.429200e+02</td>\n",
              "    </tr>\n",
              "    <tr>\n",
              "      <th>18251.0</th>\n",
              "      <td>87</td>\n",
              "      <td>1</td>\n",
              "      <td>4.314720e+03</td>\n",
              "    </tr>\n",
              "    <tr>\n",
              "      <th>18252.0</th>\n",
              "      <td>50</td>\n",
              "      <td>2</td>\n",
              "      <td>5.266700e+02</td>\n",
              "    </tr>\n",
              "    <tr>\n",
              "      <th>18255.0</th>\n",
              "      <td>89</td>\n",
              "      <td>1</td>\n",
              "      <td>1.033000e+02</td>\n",
              "    </tr>\n",
              "    <tr>\n",
              "      <th>18257.0</th>\n",
              "      <td>39</td>\n",
              "      <td>12</td>\n",
              "      <td>2.265380e+03</td>\n",
              "    </tr>\n",
              "    <tr>\n",
              "      <th>18259.0</th>\n",
              "      <td>24</td>\n",
              "      <td>3</td>\n",
              "      <td>2.338600e+03</td>\n",
              "    </tr>\n",
              "    <tr>\n",
              "      <th>18260.0</th>\n",
              "      <td>172</td>\n",
              "      <td>8</td>\n",
              "      <td>2.595000e+03</td>\n",
              "    </tr>\n",
              "    <tr>\n",
              "      <th>18261.0</th>\n",
              "      <td>43</td>\n",
              "      <td>2</td>\n",
              "      <td>3.242400e+02</td>\n",
              "    </tr>\n",
              "    <tr>\n",
              "      <th>18262.0</th>\n",
              "      <td>140</td>\n",
              "      <td>1</td>\n",
              "      <td>1.494800e+02</td>\n",
              "    </tr>\n",
              "    <tr>\n",
              "      <th>18263.0</th>\n",
              "      <td>23</td>\n",
              "      <td>4</td>\n",
              "      <td>1.211080e+03</td>\n",
              "    </tr>\n",
              "    <tr>\n",
              "      <th>18265.0</th>\n",
              "      <td>72</td>\n",
              "      <td>2</td>\n",
              "      <td>8.015100e+02</td>\n",
              "    </tr>\n",
              "    <tr>\n",
              "      <th>18268.0</th>\n",
              "      <td>134</td>\n",
              "      <td>2</td>\n",
              "      <td>0.000000e+00</td>\n",
              "    </tr>\n",
              "    <tr>\n",
              "      <th>18269.0</th>\n",
              "      <td>358</td>\n",
              "      <td>2</td>\n",
              "      <td>1.389000e+02</td>\n",
              "    </tr>\n",
              "    <tr>\n",
              "      <th>18270.0</th>\n",
              "      <td>38</td>\n",
              "      <td>3</td>\n",
              "      <td>2.389500e+02</td>\n",
              "    </tr>\n",
              "    <tr>\n",
              "      <th>18272.0</th>\n",
              "      <td>2</td>\n",
              "      <td>7</td>\n",
              "      <td>3.064780e+03</td>\n",
              "    </tr>\n",
              "    <tr>\n",
              "      <th>18273.0</th>\n",
              "      <td>2</td>\n",
              "      <td>3</td>\n",
              "      <td>2.040000e+02</td>\n",
              "    </tr>\n",
              "    <tr>\n",
              "      <th>18274.0</th>\n",
              "      <td>17</td>\n",
              "      <td>2</td>\n",
              "      <td>1.243450e-14</td>\n",
              "    </tr>\n",
              "    <tr>\n",
              "      <th>18276.0</th>\n",
              "      <td>21</td>\n",
              "      <td>3</td>\n",
              "      <td>3.233600e+02</td>\n",
              "    </tr>\n",
              "    <tr>\n",
              "      <th>18277.0</th>\n",
              "      <td>58</td>\n",
              "      <td>2</td>\n",
              "      <td>9.763000e+01</td>\n",
              "    </tr>\n",
              "    <tr>\n",
              "      <th>18278.0</th>\n",
              "      <td>73</td>\n",
              "      <td>1</td>\n",
              "      <td>1.739000e+02</td>\n",
              "    </tr>\n",
              "    <tr>\n",
              "      <th>18280.0</th>\n",
              "      <td>277</td>\n",
              "      <td>1</td>\n",
              "      <td>1.806000e+02</td>\n",
              "    </tr>\n",
              "    <tr>\n",
              "      <th>18281.0</th>\n",
              "      <td>180</td>\n",
              "      <td>1</td>\n",
              "      <td>8.082000e+01</td>\n",
              "    </tr>\n",
              "    <tr>\n",
              "      <th>18282.0</th>\n",
              "      <td>7</td>\n",
              "      <td>3</td>\n",
              "      <td>1.766000e+02</td>\n",
              "    </tr>\n",
              "    <tr>\n",
              "      <th>18283.0</th>\n",
              "      <td>3</td>\n",
              "      <td>16</td>\n",
              "      <td>2.094880e+03</td>\n",
              "    </tr>\n",
              "    <tr>\n",
              "      <th>18287.0</th>\n",
              "      <td>42</td>\n",
              "      <td>3</td>\n",
              "      <td>1.837280e+03</td>\n",
              "    </tr>\n",
              "  </tbody>\n",
              "</table>\n",
              "<p>4329 rows × 3 columns</p>\n",
              "</div>"
            ],
            "text/plain": [
              "            Recency  Frequency      Monetary\n",
              "CustomerID                                  \n",
              "12346.0         325          2  0.000000e+00\n",
              "12347.0           2          7  4.310000e+03\n",
              "12348.0          75          4  1.797240e+03\n",
              "12349.0          18          1  1.757550e+03\n",
              "12350.0         310          1  3.344000e+02\n",
              "12352.0          36         11  1.545410e+03\n",
              "12353.0         204          1  8.900000e+01\n",
              "12354.0         232          1  1.079400e+03\n",
              "12355.0         214          1  4.594000e+02\n",
              "12356.0          22          3  2.811430e+03\n",
              "12357.0          33          1  6.207670e+03\n",
              "12358.0           1          2  1.168060e+03\n",
              "12359.0           7          6  6.245530e+03\n",
              "12360.0          52          3  2.662060e+03\n",
              "12361.0         287          1  1.899000e+02\n",
              "12362.0           3         13  5.154580e+03\n",
              "12363.0         109          2  5.520000e+02\n",
              "12364.0           7          4  1.313100e+03\n",
              "12365.0         291          3  3.206900e+02\n",
              "12367.0           4          1  1.689000e+02\n",
              "12370.0          51          4  3.545690e+03\n",
              "12371.0          44          2  1.887960e+03\n",
              "12372.0          71          3  1.298040e+03\n",
              "12373.0         311          1  3.646000e+02\n",
              "12374.0          25          1  7.429300e+02\n",
              "12375.0           2          3  4.554200e+02\n",
              "12377.0         315          2  1.628120e+03\n",
              "12378.0         129          1  4.008620e+03\n",
              "12379.0          81          3  8.502900e+02\n",
              "12380.0          21          5  2.720560e+03\n",
              "...             ...        ...           ...\n",
              "18242.0          72          4  2.232490e+03\n",
              "18245.0           7          8  2.507560e+03\n",
              "18246.0          23          2  5.961000e+02\n",
              "18248.0         113          4  7.830200e+02\n",
              "18249.0          17          1  9.534000e+01\n",
              "18250.0         301          2  3.429200e+02\n",
              "18251.0          87          1  4.314720e+03\n",
              "18252.0          50          2  5.266700e+02\n",
              "18255.0          89          1  1.033000e+02\n",
              "18257.0          39         12  2.265380e+03\n",
              "18259.0          24          3  2.338600e+03\n",
              "18260.0         172          8  2.595000e+03\n",
              "18261.0          43          2  3.242400e+02\n",
              "18262.0         140          1  1.494800e+02\n",
              "18263.0          23          4  1.211080e+03\n",
              "18265.0          72          2  8.015100e+02\n",
              "18268.0         134          2  0.000000e+00\n",
              "18269.0         358          2  1.389000e+02\n",
              "18270.0          38          3  2.389500e+02\n",
              "18272.0           2          7  3.064780e+03\n",
              "18273.0           2          3  2.040000e+02\n",
              "18274.0          17          2  1.243450e-14\n",
              "18276.0          21          3  3.233600e+02\n",
              "18277.0          58          2  9.763000e+01\n",
              "18278.0          73          1  1.739000e+02\n",
              "18280.0         277          1  1.806000e+02\n",
              "18281.0         180          1  8.082000e+01\n",
              "18282.0           7          3  1.766000e+02\n",
              "18283.0           3         16  2.094880e+03\n",
              "18287.0          42          3  1.837280e+03\n",
              "\n",
              "[4329 rows x 3 columns]"
            ]
          },
          "metadata": {
            "tags": []
          },
          "execution_count": 56
        }
      ]
    },
    {
      "metadata": {
        "id": "HSzOOR-8wciE",
        "colab_type": "code",
        "colab": {
          "base_uri": "https://localhost:8080/",
          "height": 181
        },
        "outputId": "8a008ee9-7be6-4af8-fa82-58606352695f"
      },
      "cell_type": "code",
      "source": [
        "from sklearn.cluster import KMeans\n",
        "from sklearn.metrics import silhouette_samples, silhouette_score\n",
        "\n",
        "range_n_clusters = [2, 3, 4, 5, 6,7,8,9,10]\n",
        "\n",
        "for k in range_n_clusters:\n",
        "   \n",
        "    # Run the Kmeans algorithm\n",
        "    km = KMeans(n_clusters=k)\n",
        "    cluster_labels = km.fit_predict(processedData)\n",
        "    centroids = km.cluster_centers_\n",
        "\n",
        "    silhouette_avg = silhouette_score(processedData, cluster_labels)\n",
        "    \n",
        "    # Get silhouette samples\n",
        "    silhouette_vals = silhouette_samples(processedData, cluster_labels)\n",
        "    \n",
        "    print(k,silhouette_avg)\n"
      ],
      "execution_count": 59,
      "outputs": [
        {
          "output_type": "stream",
          "text": [
            "2 0.9862953974173035\n",
            "3 0.9630003427648444\n",
            "4 0.8841566942953814\n",
            "5 0.8158505063445289\n",
            "6 0.772658227161448\n",
            "7 0.7726653987752443\n",
            "8 0.7232620351607983\n",
            "9 0.6779532755212787\n",
            "10 0.6774173649697526\n"
          ],
          "name": "stdout"
        }
      ]
    }
  ]
}