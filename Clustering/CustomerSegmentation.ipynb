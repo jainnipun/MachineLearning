{
  "nbformat": 4,
  "nbformat_minor": 0,
  "metadata": {
    "colab": {
      "name": "CustomerSegmentation.ipynb",
      "version": "0.3.2",
      "provenance": [],
      "collapsed_sections": [],
      "include_colab_link": true
    },
    "kernelspec": {
      "name": "python3",
      "display_name": "Python 3"
    }
  },
  "cells": [
    {
      "cell_type": "markdown",
      "metadata": {
        "id": "view-in-github",
        "colab_type": "text"
      },
      "source": [
        "<a href=\"https://colab.research.google.com/github/jainnipun/MachineLearning/blob/master/Clustering/CustomerSegmentation.ipynb\" target=\"_parent\"><img src=\"https://colab.research.google.com/assets/colab-badge.svg\" alt=\"Open In Colab\"/></a>"
      ]
    },
    {
      "metadata": {
        "id": "2javrQBdUuLg",
        "colab_type": "code",
        "outputId": "4e288bda-22f5-423d-e47f-763778309b05",
        "colab": {
          "resources": {
            "http://localhost:8080/nbextensions/google.colab/files.js": {
              "data": "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",
              "ok": true,
              "headers": [
                [
                  "content-type",
                  "application/javascript"
                ]
              ],
              "status": 200,
              "status_text": "OK"
            }
          },
          "base_uri": "https://localhost:8080/",
          "height": 100
        }
      },
      "cell_type": "code",
      "source": [
        "# Run this cell and select the kaggle.json file downloaded\n",
        "# from the Kaggle account settings page.\n",
        "from google.colab import files\n",
        "files.upload()"
      ],
      "execution_count": 1,
      "outputs": [
        {
          "output_type": "display_data",
          "data": {
            "text/html": [
              "\n",
              "     <input type=\"file\" id=\"files-8c950d11-3c0b-43cf-a6dd-5ecf36dc533f\" name=\"files[]\" multiple disabled />\n",
              "     <output id=\"result-8c950d11-3c0b-43cf-a6dd-5ecf36dc533f\">\n",
              "      Upload widget is only available when the cell has been executed in the\n",
              "      current browser session. Please rerun this cell to enable.\n",
              "      </output>\n",
              "      <script src=\"/nbextensions/google.colab/files.js\"></script> "
            ],
            "text/plain": [
              "<IPython.core.display.HTML object>"
            ]
          },
          "metadata": {
            "tags": []
          }
        },
        {
          "output_type": "stream",
          "text": [
            "Saving kaggle.json to kaggle.json\n"
          ],
          "name": "stdout"
        },
        {
          "output_type": "execute_result",
          "data": {
            "text/plain": [
              "{'kaggle.json': b'{\"username\":\"nipunucd\",\"key\":\"b47ef5fe4b97e8886e4248a15c083c12\"}'}"
            ]
          },
          "metadata": {
            "tags": []
          },
          "execution_count": 1
        }
      ]
    },
    {
      "metadata": {
        "id": "BO5yw48Ko_vO",
        "colab_type": "code",
        "colab": {}
      },
      "cell_type": "code",
      "source": [
        "\n",
        "#Install the Kaggle API client.\n",
        "!pip install -q kaggle"
      ],
      "execution_count": 0,
      "outputs": []
    },
    {
      "metadata": {
        "id": "kFlMekbLpDGi",
        "colab_type": "code",
        "colab": {}
      },
      "cell_type": "code",
      "source": [
        "# The Kaggle API client expects this file to be in ~/.kaggle,\n",
        "# so move it there.\n",
        "!mkdir -p ~/.kaggle\n",
        "!cp kaggle.json ~/.kaggle/"
      ],
      "execution_count": 0,
      "outputs": []
    },
    {
      "metadata": {
        "id": "MsAhRY_7ifBg",
        "colab_type": "code",
        "colab": {}
      },
      "cell_type": "code",
      "source": [
        "# This permissions change avoids a warning on Kaggle tool startup.\n",
        "!chmod 600 ~/.kaggle/kaggle.json"
      ],
      "execution_count": 0,
      "outputs": []
    },
    {
      "metadata": {
        "id": "XDvoij9NV-ay",
        "colab_type": "code",
        "colab": {}
      },
      "cell_type": "code",
      "source": [
        "#!kaggle datasets list"
      ],
      "execution_count": 0,
      "outputs": []
    },
    {
      "metadata": {
        "id": "6YWZGOu1WW2x",
        "colab_type": "code",
        "colab": {}
      },
      "cell_type": "code",
      "source": [
        "#!kaggle competitions download -c microsoft-malware-prediction"
      ],
      "execution_count": 0,
      "outputs": []
    },
    {
      "metadata": {
        "id": "_cKDZ0YuVXu0",
        "colab_type": "code",
        "colab": {}
      },
      "cell_type": "code",
      "source": [
        "#!kaggle datasets download -d lava18/google-play-store-apps"
      ],
      "execution_count": 0,
      "outputs": []
    },
    {
      "metadata": {
        "id": "X_xU_wfeZEiE",
        "colab_type": "code",
        "outputId": "20da01f4-b6aa-47fa-b2b9-008460aabe0d",
        "colab": {
          "base_uri": "https://localhost:8080/",
          "height": 69
        }
      },
      "cell_type": "code",
      "source": [
        "!kaggle datasets download -d carrie1/ecommerce-data"
      ],
      "execution_count": 8,
      "outputs": [
        {
          "output_type": "stream",
          "text": [
            "Downloading ecommerce-data.zip to /content\n",
            "\r  0% 0.00/7.95M [00:00<?, ?B/s]\r 63% 5.00M/7.95M [00:00<00:00, 36.8MB/s]\n",
            "\r100% 7.95M/7.95M [00:00<00:00, 50.9MB/s]\n"
          ],
          "name": "stdout"
        }
      ]
    },
    {
      "metadata": {
        "id": "XN8A-g0gfde2",
        "colab_type": "code",
        "outputId": "49ec6c19-9c3c-4e25-863d-f291cbccb23c",
        "colab": {
          "base_uri": "https://localhost:8080/",
          "height": 52
        }
      },
      "cell_type": "code",
      "source": [
        "!unzip -d ecommerce ecommerce-data.zip"
      ],
      "execution_count": 9,
      "outputs": [
        {
          "output_type": "stream",
          "text": [
            "Archive:  ecommerce-data.zip\n",
            "  inflating: ecommerce/data.csv      \n"
          ],
          "name": "stdout"
        }
      ]
    },
    {
      "metadata": {
        "id": "e1sCUqKrfeFN",
        "colab_type": "code",
        "outputId": "1d438b4e-21df-413f-d4b7-b97bc9a3ec8e",
        "colab": {
          "base_uri": "https://localhost:8080/",
          "height": 34
        }
      },
      "cell_type": "code",
      "source": [
        "!ls -a"
      ],
      "execution_count": 10,
      "outputs": [
        {
          "output_type": "stream",
          "text": [
            ".  ..  .config\tecommerce  ecommerce-data.zip  kaggle.json  sample_data\n"
          ],
          "name": "stdout"
        }
      ]
    },
    {
      "metadata": {
        "id": "LWxlwjxHfgbt",
        "colab_type": "code",
        "outputId": "72a4f9a0-79ce-427b-889f-9521e0d804cf",
        "colab": {
          "base_uri": "https://localhost:8080/",
          "height": 34
        }
      },
      "cell_type": "code",
      "source": [
        "!ls ecommerce"
      ],
      "execution_count": 11,
      "outputs": [
        {
          "output_type": "stream",
          "text": [
            "data.csv\n"
          ],
          "name": "stdout"
        }
      ]
    },
    {
      "metadata": {
        "id": "hvZgZanffi71",
        "colab_type": "code",
        "colab": {}
      },
      "cell_type": "code",
      "source": [
        "import pandas as pd\n",
        "data=pd.read_csv('ecommerce/data.csv',encoding = \"ISO-8859-1\")"
      ],
      "execution_count": 0,
      "outputs": []
    },
    {
      "metadata": {
        "id": "dJNrs9tSi5AQ",
        "colab_type": "code",
        "colab": {}
      },
      "cell_type": "code",
      "source": [
        "import datetime\n",
        "\n",
        "data['InvoiceDate'] = data['InvoiceDate'].apply(lambda x: datetime.datetime.strptime(x, \"%m/%d/%Y %H:%M\").strftime(\"%Y-%m-%d\"))"
      ],
      "execution_count": 0,
      "outputs": []
    },
    {
      "metadata": {
        "id": "bC4H3m90mY3b",
        "colab_type": "code",
        "outputId": "82a7c307-5ffd-4fd3-a392-3cd9d4fb5d85",
        "colab": {
          "base_uri": "https://localhost:8080/",
          "height": 52
        }
      },
      "cell_type": "code",
      "source": [
        "print(data['InvoiceDate'].min())\n",
        "print(data['InvoiceDate'].max())\n",
        "max_date = data['InvoiceDate'].max()"
      ],
      "execution_count": 14,
      "outputs": [
        {
          "output_type": "stream",
          "text": [
            "2010-12-01\n",
            "2011-12-09\n"
          ],
          "name": "stdout"
        }
      ]
    },
    {
      "metadata": {
        "id": "4W9CyZSgAKjU",
        "colab_type": "code",
        "colab": {}
      },
      "cell_type": "code",
      "source": [
        "data['Amount'] = data['Quantity'] * data['UnitPrice']"
      ],
      "execution_count": 0,
      "outputs": []
    },
    {
      "metadata": {
        "id": "KmYGoHMY-yKF",
        "colab_type": "code",
        "colab": {}
      },
      "cell_type": "code",
      "source": [
        "data=data.loc[data['CustomerID'].isnull()==False]"
      ],
      "execution_count": 0,
      "outputs": []
    },
    {
      "metadata": {
        "id": "x9iuBFLNCqkO",
        "colab_type": "code",
        "colab": {}
      },
      "cell_type": "code",
      "source": [
        "#data.loc[data['Amount']==0]"
      ],
      "execution_count": 0,
      "outputs": []
    },
    {
      "metadata": {
        "id": "lMUfCJxrDiD9",
        "colab_type": "code",
        "colab": {}
      },
      "cell_type": "code",
      "source": [
        "#Removing records where Quatity is 0\n",
        "\n",
        "data = data.loc[data['Quantity']!=0]"
      ],
      "execution_count": 0,
      "outputs": []
    },
    {
      "metadata": {
        "id": "FgQbzqaMF4T_",
        "colab_type": "code",
        "colab": {}
      },
      "cell_type": "code",
      "source": [
        "#data.loc[data['CustomerID']==18274.0]\n",
        "#data.loc[data['CustomerID'] == 18276.0]\n"
      ],
      "execution_count": 0,
      "outputs": []
    },
    {
      "metadata": {
        "id": "SAiijBSDG_rO",
        "colab_type": "code",
        "colab": {}
      },
      "cell_type": "code",
      "source": [
        "#data.loc[data['CustomerID'] == 12347.0]\n"
      ],
      "execution_count": 0,
      "outputs": []
    },
    {
      "metadata": {
        "id": "SDKxFgnXBItz",
        "colab_type": "code",
        "outputId": "b145c70b-08d9-48f5-cd5b-a5613cbd9ce7",
        "colab": {
          "base_uri": "https://localhost:8080/",
          "height": 49
        }
      },
      "cell_type": "code",
      "source": [
        "#Viewing nan records - if any present in data we will rectify that\n",
        "\n",
        "nans = lambda df: df[df.isnull().any(axis=1)]\n",
        "nans(data)"
      ],
      "execution_count": 19,
      "outputs": [
        {
          "output_type": "execute_result",
          "data": {
            "text/html": [
              "<div>\n",
              "<style scoped>\n",
              "    .dataframe tbody tr th:only-of-type {\n",
              "        vertical-align: middle;\n",
              "    }\n",
              "\n",
              "    .dataframe tbody tr th {\n",
              "        vertical-align: top;\n",
              "    }\n",
              "\n",
              "    .dataframe thead th {\n",
              "        text-align: right;\n",
              "    }\n",
              "</style>\n",
              "<table border=\"1\" class=\"dataframe\">\n",
              "  <thead>\n",
              "    <tr style=\"text-align: right;\">\n",
              "      <th></th>\n",
              "      <th>InvoiceNo</th>\n",
              "      <th>StockCode</th>\n",
              "      <th>Description</th>\n",
              "      <th>Quantity</th>\n",
              "      <th>InvoiceDate</th>\n",
              "      <th>UnitPrice</th>\n",
              "      <th>CustomerID</th>\n",
              "      <th>Country</th>\n",
              "      <th>Amount</th>\n",
              "    </tr>\n",
              "  </thead>\n",
              "  <tbody>\n",
              "  </tbody>\n",
              "</table>\n",
              "</div>"
            ],
            "text/plain": [
              "Empty DataFrame\n",
              "Columns: [InvoiceNo, StockCode, Description, Quantity, InvoiceDate, UnitPrice, CustomerID, Country, Amount]\n",
              "Index: []"
            ]
          },
          "metadata": {
            "tags": []
          },
          "execution_count": 19
        }
      ]
    },
    {
      "metadata": {
        "id": "WSa2JEoW_DKu",
        "colab_type": "code",
        "colab": {}
      },
      "cell_type": "code",
      "source": [
        "#Not remove data where amount is 0 as we will consider free purchases as well\n",
        "#data = data[data.Amount != 0]"
      ],
      "execution_count": 0,
      "outputs": []
    },
    {
      "metadata": {
        "id": "AsHWAqifKCy4",
        "colab_type": "code",
        "colab": {}
      },
      "cell_type": "code",
      "source": [
        "#processedData = data.groupby(by=['CustomerID'])"
      ],
      "execution_count": 0,
      "outputs": []
    },
    {
      "metadata": {
        "id": "Jym3Q3bFKK8H",
        "colab_type": "code",
        "colab": {}
      },
      "cell_type": "code",
      "source": [
        "# Recency  - Last Transaction date\n",
        "# Frequency - Total Tranactions\n",
        "# Monetary - Total Spendings\n",
        "\n",
        "processedData = pd.DataFrame(columns=['CustomerId', 'Recency', 'Frequency','Monetary'])"
      ],
      "execution_count": 0,
      "outputs": []
    },
    {
      "metadata": {
        "id": "YuNF8uhU7ZDj",
        "colab_type": "code",
        "colab": {}
      },
      "cell_type": "code",
      "source": [
        "data_group_by_customers = data.groupby(by=['CustomerID'])"
      ],
      "execution_count": 0,
      "outputs": []
    },
    {
      "metadata": {
        "id": "7IeuYLToOomY",
        "colab_type": "code",
        "colab": {}
      },
      "cell_type": "code",
      "source": [
        "#data_group_by_customers.InvoiceNo.nunique()"
      ],
      "execution_count": 0,
      "outputs": []
    },
    {
      "metadata": {
        "id": "WhW-DbKnORVk",
        "colab_type": "code",
        "colab": {}
      },
      "cell_type": "code",
      "source": [
        "#Counting unique invoice per customer\n",
        "processedData['Frequency'] = data.groupby(by=['CustomerID']).InvoiceNo.nunique()\n",
        "\n",
        "#Fetching last invoice date per customer\n",
        "processedData['Recency']=data.groupby(by='CustomerID').max()['InvoiceDate']\n",
        "\n",
        "#Fetching total spending per customer\n",
        "processedData['Monetary'] =  data.groupby(by='CustomerID').sum()[['Amount']]\n",
        "\n",
        "processedData['CustomerId']=(list(processedData.index.values)) "
      ],
      "execution_count": 0,
      "outputs": []
    },
    {
      "metadata": {
        "id": "zftwCHKxlRpg",
        "colab_type": "code",
        "colab": {}
      },
      "cell_type": "code",
      "source": [
        "#Removing negative records - where refund greater than purchase\n",
        "processedData = processedData.loc[processedData['Monetary']>=0.0]\n"
      ],
      "execution_count": 0,
      "outputs": []
    },
    {
      "metadata": {
        "id": "OE4PXl3-JAWl",
        "colab_type": "code",
        "colab": {}
      },
      "cell_type": "code",
      "source": [
        "import datetime\n",
        "\n",
        "now = datetime.datetime.now()\n",
        "\n",
        "processedData['Recency']=processedData['Recency'].apply(lambda x:(now-datetime.datetime.strptime(x,'%Y-%m-%d')).days)\n"
      ],
      "execution_count": 0,
      "outputs": []
    },
    {
      "metadata": {
        "id": "erWgnW0TZWTa",
        "colab_type": "code",
        "colab": {
          "base_uri": "https://localhost:8080/",
          "height": 2023
        },
        "outputId": "ccc0914f-166c-4e68-d383-db301f676fed"
      },
      "cell_type": "code",
      "source": [
        "processedData"
      ],
      "execution_count": 28,
      "outputs": [
        {
          "output_type": "execute_result",
          "data": {
            "text/html": [
              "<div>\n",
              "<style scoped>\n",
              "    .dataframe tbody tr th:only-of-type {\n",
              "        vertical-align: middle;\n",
              "    }\n",
              "\n",
              "    .dataframe tbody tr th {\n",
              "        vertical-align: top;\n",
              "    }\n",
              "\n",
              "    .dataframe thead th {\n",
              "        text-align: right;\n",
              "    }\n",
              "</style>\n",
              "<table border=\"1\" class=\"dataframe\">\n",
              "  <thead>\n",
              "    <tr style=\"text-align: right;\">\n",
              "      <th></th>\n",
              "      <th>CustomerId</th>\n",
              "      <th>Recency</th>\n",
              "      <th>Frequency</th>\n",
              "      <th>Monetary</th>\n",
              "    </tr>\n",
              "    <tr>\n",
              "      <th>CustomerID</th>\n",
              "      <th></th>\n",
              "      <th></th>\n",
              "      <th></th>\n",
              "      <th></th>\n",
              "    </tr>\n",
              "  </thead>\n",
              "  <tbody>\n",
              "    <tr>\n",
              "      <th>12346.0</th>\n",
              "      <td>12346.0</td>\n",
              "      <td>2960</td>\n",
              "      <td>2</td>\n",
              "      <td>0.000000e+00</td>\n",
              "    </tr>\n",
              "    <tr>\n",
              "      <th>12347.0</th>\n",
              "      <td>12347.0</td>\n",
              "      <td>2637</td>\n",
              "      <td>7</td>\n",
              "      <td>4.310000e+03</td>\n",
              "    </tr>\n",
              "    <tr>\n",
              "      <th>12348.0</th>\n",
              "      <td>12348.0</td>\n",
              "      <td>2710</td>\n",
              "      <td>4</td>\n",
              "      <td>1.797240e+03</td>\n",
              "    </tr>\n",
              "    <tr>\n",
              "      <th>12349.0</th>\n",
              "      <td>12349.0</td>\n",
              "      <td>2653</td>\n",
              "      <td>1</td>\n",
              "      <td>1.757550e+03</td>\n",
              "    </tr>\n",
              "    <tr>\n",
              "      <th>12350.0</th>\n",
              "      <td>12350.0</td>\n",
              "      <td>2945</td>\n",
              "      <td>1</td>\n",
              "      <td>3.344000e+02</td>\n",
              "    </tr>\n",
              "    <tr>\n",
              "      <th>12352.0</th>\n",
              "      <td>12352.0</td>\n",
              "      <td>2671</td>\n",
              "      <td>11</td>\n",
              "      <td>1.545410e+03</td>\n",
              "    </tr>\n",
              "    <tr>\n",
              "      <th>12353.0</th>\n",
              "      <td>12353.0</td>\n",
              "      <td>2839</td>\n",
              "      <td>1</td>\n",
              "      <td>8.900000e+01</td>\n",
              "    </tr>\n",
              "    <tr>\n",
              "      <th>12354.0</th>\n",
              "      <td>12354.0</td>\n",
              "      <td>2867</td>\n",
              "      <td>1</td>\n",
              "      <td>1.079400e+03</td>\n",
              "    </tr>\n",
              "    <tr>\n",
              "      <th>12355.0</th>\n",
              "      <td>12355.0</td>\n",
              "      <td>2849</td>\n",
              "      <td>1</td>\n",
              "      <td>4.594000e+02</td>\n",
              "    </tr>\n",
              "    <tr>\n",
              "      <th>12356.0</th>\n",
              "      <td>12356.0</td>\n",
              "      <td>2657</td>\n",
              "      <td>3</td>\n",
              "      <td>2.811430e+03</td>\n",
              "    </tr>\n",
              "    <tr>\n",
              "      <th>12357.0</th>\n",
              "      <td>12357.0</td>\n",
              "      <td>2668</td>\n",
              "      <td>1</td>\n",
              "      <td>6.207670e+03</td>\n",
              "    </tr>\n",
              "    <tr>\n",
              "      <th>12358.0</th>\n",
              "      <td>12358.0</td>\n",
              "      <td>2636</td>\n",
              "      <td>2</td>\n",
              "      <td>1.168060e+03</td>\n",
              "    </tr>\n",
              "    <tr>\n",
              "      <th>12359.0</th>\n",
              "      <td>12359.0</td>\n",
              "      <td>2642</td>\n",
              "      <td>6</td>\n",
              "      <td>6.245530e+03</td>\n",
              "    </tr>\n",
              "    <tr>\n",
              "      <th>12360.0</th>\n",
              "      <td>12360.0</td>\n",
              "      <td>2687</td>\n",
              "      <td>3</td>\n",
              "      <td>2.662060e+03</td>\n",
              "    </tr>\n",
              "    <tr>\n",
              "      <th>12361.0</th>\n",
              "      <td>12361.0</td>\n",
              "      <td>2922</td>\n",
              "      <td>1</td>\n",
              "      <td>1.899000e+02</td>\n",
              "    </tr>\n",
              "    <tr>\n",
              "      <th>12362.0</th>\n",
              "      <td>12362.0</td>\n",
              "      <td>2638</td>\n",
              "      <td>13</td>\n",
              "      <td>5.154580e+03</td>\n",
              "    </tr>\n",
              "    <tr>\n",
              "      <th>12363.0</th>\n",
              "      <td>12363.0</td>\n",
              "      <td>2744</td>\n",
              "      <td>2</td>\n",
              "      <td>5.520000e+02</td>\n",
              "    </tr>\n",
              "    <tr>\n",
              "      <th>12364.0</th>\n",
              "      <td>12364.0</td>\n",
              "      <td>2642</td>\n",
              "      <td>4</td>\n",
              "      <td>1.313100e+03</td>\n",
              "    </tr>\n",
              "    <tr>\n",
              "      <th>12365.0</th>\n",
              "      <td>12365.0</td>\n",
              "      <td>2926</td>\n",
              "      <td>3</td>\n",
              "      <td>3.206900e+02</td>\n",
              "    </tr>\n",
              "    <tr>\n",
              "      <th>12367.0</th>\n",
              "      <td>12367.0</td>\n",
              "      <td>2639</td>\n",
              "      <td>1</td>\n",
              "      <td>1.689000e+02</td>\n",
              "    </tr>\n",
              "    <tr>\n",
              "      <th>12370.0</th>\n",
              "      <td>12370.0</td>\n",
              "      <td>2686</td>\n",
              "      <td>4</td>\n",
              "      <td>3.545690e+03</td>\n",
              "    </tr>\n",
              "    <tr>\n",
              "      <th>12371.0</th>\n",
              "      <td>12371.0</td>\n",
              "      <td>2679</td>\n",
              "      <td>2</td>\n",
              "      <td>1.887960e+03</td>\n",
              "    </tr>\n",
              "    <tr>\n",
              "      <th>12372.0</th>\n",
              "      <td>12372.0</td>\n",
              "      <td>2706</td>\n",
              "      <td>3</td>\n",
              "      <td>1.298040e+03</td>\n",
              "    </tr>\n",
              "    <tr>\n",
              "      <th>12373.0</th>\n",
              "      <td>12373.0</td>\n",
              "      <td>2946</td>\n",
              "      <td>1</td>\n",
              "      <td>3.646000e+02</td>\n",
              "    </tr>\n",
              "    <tr>\n",
              "      <th>12374.0</th>\n",
              "      <td>12374.0</td>\n",
              "      <td>2660</td>\n",
              "      <td>1</td>\n",
              "      <td>7.429300e+02</td>\n",
              "    </tr>\n",
              "    <tr>\n",
              "      <th>12375.0</th>\n",
              "      <td>12375.0</td>\n",
              "      <td>2637</td>\n",
              "      <td>3</td>\n",
              "      <td>4.554200e+02</td>\n",
              "    </tr>\n",
              "    <tr>\n",
              "      <th>12377.0</th>\n",
              "      <td>12377.0</td>\n",
              "      <td>2950</td>\n",
              "      <td>2</td>\n",
              "      <td>1.628120e+03</td>\n",
              "    </tr>\n",
              "    <tr>\n",
              "      <th>12378.0</th>\n",
              "      <td>12378.0</td>\n",
              "      <td>2764</td>\n",
              "      <td>1</td>\n",
              "      <td>4.008620e+03</td>\n",
              "    </tr>\n",
              "    <tr>\n",
              "      <th>12379.0</th>\n",
              "      <td>12379.0</td>\n",
              "      <td>2716</td>\n",
              "      <td>3</td>\n",
              "      <td>8.502900e+02</td>\n",
              "    </tr>\n",
              "    <tr>\n",
              "      <th>12380.0</th>\n",
              "      <td>12380.0</td>\n",
              "      <td>2656</td>\n",
              "      <td>5</td>\n",
              "      <td>2.720560e+03</td>\n",
              "    </tr>\n",
              "    <tr>\n",
              "      <th>...</th>\n",
              "      <td>...</td>\n",
              "      <td>...</td>\n",
              "      <td>...</td>\n",
              "      <td>...</td>\n",
              "    </tr>\n",
              "    <tr>\n",
              "      <th>18242.0</th>\n",
              "      <td>18242.0</td>\n",
              "      <td>2707</td>\n",
              "      <td>4</td>\n",
              "      <td>2.232490e+03</td>\n",
              "    </tr>\n",
              "    <tr>\n",
              "      <th>18245.0</th>\n",
              "      <td>18245.0</td>\n",
              "      <td>2642</td>\n",
              "      <td>8</td>\n",
              "      <td>2.507560e+03</td>\n",
              "    </tr>\n",
              "    <tr>\n",
              "      <th>18246.0</th>\n",
              "      <td>18246.0</td>\n",
              "      <td>2658</td>\n",
              "      <td>2</td>\n",
              "      <td>5.961000e+02</td>\n",
              "    </tr>\n",
              "    <tr>\n",
              "      <th>18248.0</th>\n",
              "      <td>18248.0</td>\n",
              "      <td>2748</td>\n",
              "      <td>4</td>\n",
              "      <td>7.830200e+02</td>\n",
              "    </tr>\n",
              "    <tr>\n",
              "      <th>18249.0</th>\n",
              "      <td>18249.0</td>\n",
              "      <td>2652</td>\n",
              "      <td>1</td>\n",
              "      <td>9.534000e+01</td>\n",
              "    </tr>\n",
              "    <tr>\n",
              "      <th>18250.0</th>\n",
              "      <td>18250.0</td>\n",
              "      <td>2936</td>\n",
              "      <td>2</td>\n",
              "      <td>3.429200e+02</td>\n",
              "    </tr>\n",
              "    <tr>\n",
              "      <th>18251.0</th>\n",
              "      <td>18251.0</td>\n",
              "      <td>2722</td>\n",
              "      <td>1</td>\n",
              "      <td>4.314720e+03</td>\n",
              "    </tr>\n",
              "    <tr>\n",
              "      <th>18252.0</th>\n",
              "      <td>18252.0</td>\n",
              "      <td>2685</td>\n",
              "      <td>2</td>\n",
              "      <td>5.266700e+02</td>\n",
              "    </tr>\n",
              "    <tr>\n",
              "      <th>18255.0</th>\n",
              "      <td>18255.0</td>\n",
              "      <td>2724</td>\n",
              "      <td>1</td>\n",
              "      <td>1.033000e+02</td>\n",
              "    </tr>\n",
              "    <tr>\n",
              "      <th>18257.0</th>\n",
              "      <td>18257.0</td>\n",
              "      <td>2674</td>\n",
              "      <td>12</td>\n",
              "      <td>2.265380e+03</td>\n",
              "    </tr>\n",
              "    <tr>\n",
              "      <th>18259.0</th>\n",
              "      <td>18259.0</td>\n",
              "      <td>2659</td>\n",
              "      <td>3</td>\n",
              "      <td>2.338600e+03</td>\n",
              "    </tr>\n",
              "    <tr>\n",
              "      <th>18260.0</th>\n",
              "      <td>18260.0</td>\n",
              "      <td>2807</td>\n",
              "      <td>8</td>\n",
              "      <td>2.595000e+03</td>\n",
              "    </tr>\n",
              "    <tr>\n",
              "      <th>18261.0</th>\n",
              "      <td>18261.0</td>\n",
              "      <td>2678</td>\n",
              "      <td>2</td>\n",
              "      <td>3.242400e+02</td>\n",
              "    </tr>\n",
              "    <tr>\n",
              "      <th>18262.0</th>\n",
              "      <td>18262.0</td>\n",
              "      <td>2775</td>\n",
              "      <td>1</td>\n",
              "      <td>1.494800e+02</td>\n",
              "    </tr>\n",
              "    <tr>\n",
              "      <th>18263.0</th>\n",
              "      <td>18263.0</td>\n",
              "      <td>2658</td>\n",
              "      <td>4</td>\n",
              "      <td>1.211080e+03</td>\n",
              "    </tr>\n",
              "    <tr>\n",
              "      <th>18265.0</th>\n",
              "      <td>18265.0</td>\n",
              "      <td>2707</td>\n",
              "      <td>2</td>\n",
              "      <td>8.015100e+02</td>\n",
              "    </tr>\n",
              "    <tr>\n",
              "      <th>18268.0</th>\n",
              "      <td>18268.0</td>\n",
              "      <td>2769</td>\n",
              "      <td>2</td>\n",
              "      <td>0.000000e+00</td>\n",
              "    </tr>\n",
              "    <tr>\n",
              "      <th>18269.0</th>\n",
              "      <td>18269.0</td>\n",
              "      <td>2993</td>\n",
              "      <td>2</td>\n",
              "      <td>1.389000e+02</td>\n",
              "    </tr>\n",
              "    <tr>\n",
              "      <th>18270.0</th>\n",
              "      <td>18270.0</td>\n",
              "      <td>2673</td>\n",
              "      <td>3</td>\n",
              "      <td>2.389500e+02</td>\n",
              "    </tr>\n",
              "    <tr>\n",
              "      <th>18272.0</th>\n",
              "      <td>18272.0</td>\n",
              "      <td>2637</td>\n",
              "      <td>7</td>\n",
              "      <td>3.064780e+03</td>\n",
              "    </tr>\n",
              "    <tr>\n",
              "      <th>18273.0</th>\n",
              "      <td>18273.0</td>\n",
              "      <td>2637</td>\n",
              "      <td>3</td>\n",
              "      <td>2.040000e+02</td>\n",
              "    </tr>\n",
              "    <tr>\n",
              "      <th>18274.0</th>\n",
              "      <td>18274.0</td>\n",
              "      <td>2652</td>\n",
              "      <td>2</td>\n",
              "      <td>1.243450e-14</td>\n",
              "    </tr>\n",
              "    <tr>\n",
              "      <th>18276.0</th>\n",
              "      <td>18276.0</td>\n",
              "      <td>2656</td>\n",
              "      <td>3</td>\n",
              "      <td>3.233600e+02</td>\n",
              "    </tr>\n",
              "    <tr>\n",
              "      <th>18277.0</th>\n",
              "      <td>18277.0</td>\n",
              "      <td>2693</td>\n",
              "      <td>2</td>\n",
              "      <td>9.763000e+01</td>\n",
              "    </tr>\n",
              "    <tr>\n",
              "      <th>18278.0</th>\n",
              "      <td>18278.0</td>\n",
              "      <td>2708</td>\n",
              "      <td>1</td>\n",
              "      <td>1.739000e+02</td>\n",
              "    </tr>\n",
              "    <tr>\n",
              "      <th>18280.0</th>\n",
              "      <td>18280.0</td>\n",
              "      <td>2912</td>\n",
              "      <td>1</td>\n",
              "      <td>1.806000e+02</td>\n",
              "    </tr>\n",
              "    <tr>\n",
              "      <th>18281.0</th>\n",
              "      <td>18281.0</td>\n",
              "      <td>2815</td>\n",
              "      <td>1</td>\n",
              "      <td>8.082000e+01</td>\n",
              "    </tr>\n",
              "    <tr>\n",
              "      <th>18282.0</th>\n",
              "      <td>18282.0</td>\n",
              "      <td>2642</td>\n",
              "      <td>3</td>\n",
              "      <td>1.766000e+02</td>\n",
              "    </tr>\n",
              "    <tr>\n",
              "      <th>18283.0</th>\n",
              "      <td>18283.0</td>\n",
              "      <td>2638</td>\n",
              "      <td>16</td>\n",
              "      <td>2.094880e+03</td>\n",
              "    </tr>\n",
              "    <tr>\n",
              "      <th>18287.0</th>\n",
              "      <td>18287.0</td>\n",
              "      <td>2677</td>\n",
              "      <td>3</td>\n",
              "      <td>1.837280e+03</td>\n",
              "    </tr>\n",
              "  </tbody>\n",
              "</table>\n",
              "<p>4329 rows × 4 columns</p>\n",
              "</div>"
            ],
            "text/plain": [
              "            CustomerId  Recency  Frequency      Monetary\n",
              "CustomerID                                              \n",
              "12346.0        12346.0     2960          2  0.000000e+00\n",
              "12347.0        12347.0     2637          7  4.310000e+03\n",
              "12348.0        12348.0     2710          4  1.797240e+03\n",
              "12349.0        12349.0     2653          1  1.757550e+03\n",
              "12350.0        12350.0     2945          1  3.344000e+02\n",
              "12352.0        12352.0     2671         11  1.545410e+03\n",
              "12353.0        12353.0     2839          1  8.900000e+01\n",
              "12354.0        12354.0     2867          1  1.079400e+03\n",
              "12355.0        12355.0     2849          1  4.594000e+02\n",
              "12356.0        12356.0     2657          3  2.811430e+03\n",
              "12357.0        12357.0     2668          1  6.207670e+03\n",
              "12358.0        12358.0     2636          2  1.168060e+03\n",
              "12359.0        12359.0     2642          6  6.245530e+03\n",
              "12360.0        12360.0     2687          3  2.662060e+03\n",
              "12361.0        12361.0     2922          1  1.899000e+02\n",
              "12362.0        12362.0     2638         13  5.154580e+03\n",
              "12363.0        12363.0     2744          2  5.520000e+02\n",
              "12364.0        12364.0     2642          4  1.313100e+03\n",
              "12365.0        12365.0     2926          3  3.206900e+02\n",
              "12367.0        12367.0     2639          1  1.689000e+02\n",
              "12370.0        12370.0     2686          4  3.545690e+03\n",
              "12371.0        12371.0     2679          2  1.887960e+03\n",
              "12372.0        12372.0     2706          3  1.298040e+03\n",
              "12373.0        12373.0     2946          1  3.646000e+02\n",
              "12374.0        12374.0     2660          1  7.429300e+02\n",
              "12375.0        12375.0     2637          3  4.554200e+02\n",
              "12377.0        12377.0     2950          2  1.628120e+03\n",
              "12378.0        12378.0     2764          1  4.008620e+03\n",
              "12379.0        12379.0     2716          3  8.502900e+02\n",
              "12380.0        12380.0     2656          5  2.720560e+03\n",
              "...                ...      ...        ...           ...\n",
              "18242.0        18242.0     2707          4  2.232490e+03\n",
              "18245.0        18245.0     2642          8  2.507560e+03\n",
              "18246.0        18246.0     2658          2  5.961000e+02\n",
              "18248.0        18248.0     2748          4  7.830200e+02\n",
              "18249.0        18249.0     2652          1  9.534000e+01\n",
              "18250.0        18250.0     2936          2  3.429200e+02\n",
              "18251.0        18251.0     2722          1  4.314720e+03\n",
              "18252.0        18252.0     2685          2  5.266700e+02\n",
              "18255.0        18255.0     2724          1  1.033000e+02\n",
              "18257.0        18257.0     2674         12  2.265380e+03\n",
              "18259.0        18259.0     2659          3  2.338600e+03\n",
              "18260.0        18260.0     2807          8  2.595000e+03\n",
              "18261.0        18261.0     2678          2  3.242400e+02\n",
              "18262.0        18262.0     2775          1  1.494800e+02\n",
              "18263.0        18263.0     2658          4  1.211080e+03\n",
              "18265.0        18265.0     2707          2  8.015100e+02\n",
              "18268.0        18268.0     2769          2  0.000000e+00\n",
              "18269.0        18269.0     2993          2  1.389000e+02\n",
              "18270.0        18270.0     2673          3  2.389500e+02\n",
              "18272.0        18272.0     2637          7  3.064780e+03\n",
              "18273.0        18273.0     2637          3  2.040000e+02\n",
              "18274.0        18274.0     2652          2  1.243450e-14\n",
              "18276.0        18276.0     2656          3  3.233600e+02\n",
              "18277.0        18277.0     2693          2  9.763000e+01\n",
              "18278.0        18278.0     2708          1  1.739000e+02\n",
              "18280.0        18280.0     2912          1  1.806000e+02\n",
              "18281.0        18281.0     2815          1  8.082000e+01\n",
              "18282.0        18282.0     2642          3  1.766000e+02\n",
              "18283.0        18283.0     2638         16  2.094880e+03\n",
              "18287.0        18287.0     2677          3  1.837280e+03\n",
              "\n",
              "[4329 rows x 4 columns]"
            ]
          },
          "metadata": {
            "tags": []
          },
          "execution_count": 28
        }
      ]
    }
  ]
}