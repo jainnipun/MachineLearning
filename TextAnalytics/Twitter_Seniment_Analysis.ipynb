{
  "nbformat": 4,
  "nbformat_minor": 0,
  "metadata": {
    "colab": {
      "name": "Untitled2.ipynb",
      "version": "0.3.2",
      "provenance": [],
      "include_colab_link": true
    },
    "kernelspec": {
      "name": "python3",
      "display_name": "Python 3"
    }
  },
  "cells": [
    {
      "cell_type": "markdown",
      "metadata": {
        "id": "view-in-github",
        "colab_type": "text"
      },
      "source": [
        "<a href=\"https://colab.research.google.com/github/jainnipun/MachineLearning/blob/master/TextAnalytics/Twitter_Seniment_Analysis.ipynb\" target=\"_parent\"><img src=\"https://colab.research.google.com/assets/colab-badge.svg\" alt=\"Open In Colab\"/></a>"
      ]
    },
    {
      "metadata": {
        "id": "k4gLIG8qfwGH",
        "colab_type": "text"
      },
      "cell_type": "markdown",
      "source": [
        "#Twitter Sentiment Analysis"
      ]
    },
    {
      "metadata": {
        "id": "0PwD88m8C317",
        "colab_type": "code",
        "colab": {}
      },
      "cell_type": "code",
      "source": [
        "import tweepy\n",
        "from textblob import TextBlob\n",
        "import csv\n",
        "import re\n",
        "import sys\n",
        "import pandas as pd\n",
        "\n",
        "consumer_key='YOUR CONSUMER KEY'\n",
        "consumer_secret='YOUR CONSUMER SECRET KEY'\n",
        "\n",
        "access_token_key='YOUR ACCESS TOKEN'\n",
        "access_token_secret='YOUR SECRET ACCESS TOKEN'\n",
        "\n",
        "auth=tweepy.OAuthHandler(consumer_key,consumer_secret)\n",
        "auth.set_access_token(access_token_key,access_token_secret)\n",
        "\n",
        "api=tweepy.API(auth)\n",
        "topicname='Football'\n",
        "pubic_tweets=api.search(topicname)\n",
        "unwanted_words=['@','RT',':','https','http']\n",
        "symbols=['@','#']\n",
        "data=[]\n",
        "for tweet in pubic_tweets:\n",
        "    text=tweet.text\n",
        "    textWords=text.split()\n",
        "    #print (textWords)\n",
        "    cleanedTweet=' '.join(re.sub(\"(@[A-Za-z0-9]+)|([^0-9A-Za-z \\t])|(\\w+:\\/\\/\\S+)|(RT)\", \" \", text).split())\n",
        "    print (cleanedTweet)\n",
        "    #print (TextBlob(cleanedTweet).tags)\n",
        "    analysis= TextBlob(cleanedTweet)\n",
        "    print (analysis.sentiment)\n",
        "    polarity = 'Positive'\n",
        "    if(analysis.sentiment.polarity < 0):\n",
        "        polarity = 'Negative'\n",
        "    if(0<=analysis.sentiment.polarity <=0.2):\n",
        "        polarity = 'Neutral'\n",
        "    #print (polarity)\n",
        "    dic={}\n",
        "    dic['Sentiment']=polarity\n",
        "    dic['Tweet']=cleanedTweet\n",
        "    data.append(dic)\n",
        "df=pd.DataFrame(data)\n",
        "df.to_csv('analysis1.csv')"
      ],
      "execution_count": 0,
      "outputs": []
    }
  ]
}