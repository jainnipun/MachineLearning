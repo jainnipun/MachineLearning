{
  "nbformat": 4,
  "nbformat_minor": 0,
  "metadata": {
    "colab": {
      "name": "NLP_Text_classification.ipynb",
      "version": "0.3.2",
      "provenance": [],
      "collapsed_sections": [],
      "include_colab_link": true
    },
    "kernelspec": {
      "name": "python3",
      "display_name": "Python 3"
    }
  },
  "cells": [
    {
      "cell_type": "markdown",
      "metadata": {
        "id": "view-in-github",
        "colab_type": "text"
      },
      "source": [
        "<a href=\"https://colab.research.google.com/github/jainnipun/MachineLearning/blob/master/TextAnalytics/NLP_Text_classification.ipynb\" target=\"_parent\"><img src=\"https://colab.research.google.com/assets/colab-badge.svg\" alt=\"Open In Colab\"/></a>"
      ]
    },
    {
      "metadata": {
        "id": "VVv4MAOTpyBJ",
        "colab_type": "text"
      },
      "cell_type": "markdown",
      "source": [
        "#Natural Language Processing (NLP)"
      ]
    },
    {
      "metadata": {
        "id": "j_-ZFWO1-AyZ",
        "colab_type": "text"
      },
      "cell_type": "markdown",
      "source": [
        "## Text Classification"
      ]
    },
    {
      "metadata": {
        "id": "puMtCKWdvHvj",
        "colab_type": "text"
      },
      "cell_type": "markdown",
      "source": [
        "**Identifying wether a name is of a Male or Female **"
      ]
    },
    {
      "metadata": {
        "id": "CzrO3jlhpu5q",
        "colab_type": "text"
      },
      "cell_type": "markdown",
      "source": [
        "I am using the NLTK’s names corpus as the labeled training data. The names corpus contains a total of around 8K male and female names. \n",
        "It’s compiled by Kantrowitz, Ross.\n",
        "\n",
        "So, we have two categories for classification. They are male and female. Our training data (the “names” corpus) has names that are already labeled as male and names that are already labeled as female."
      ]
    },
    {
      "metadata": {
        "id": "txKKVW2ZnnVB",
        "colab_type": "code",
        "outputId": "67586113-91df-4264-bae5-83809ae0461d",
        "colab": {
          "base_uri": "https://localhost:8080/",
          "height": 68
        }
      },
      "cell_type": "code",
      "source": [
        "import nltk\n",
        "nltk.download('names')"
      ],
      "execution_count": 1,
      "outputs": [
        {
          "output_type": "stream",
          "text": [
            "[nltk_data] Downloading package names to /root/nltk_data...\n",
            "[nltk_data]   Unzipping corpora/names.zip.\n"
          ],
          "name": "stdout"
        },
        {
          "output_type": "execute_result",
          "data": {
            "text/plain": [
              "True"
            ]
          },
          "metadata": {
            "tags": []
          },
          "execution_count": 1
        }
      ]
    },
    {
      "metadata": {
        "id": "sWFqMakWnbWZ",
        "colab_type": "code",
        "outputId": "298fb9ce-8105-4e69-8338-cff7bbf1262d",
        "colab": {
          "base_uri": "https://localhost:8080/",
          "height": 34
        }
      },
      "cell_type": "code",
      "source": [
        "from nltk.corpus import names \n",
        " \n",
        "#Viewing fields present in names\n",
        "print (names.fileids()) # Output: ['female.txt', 'male.txt']"
      ],
      "execution_count": 2,
      "outputs": [
        {
          "output_type": "stream",
          "text": [
            "['female.txt', 'male.txt']\n"
          ],
          "name": "stdout"
        }
      ]
    },
    {
      "metadata": {
        "id": "UqACRh4X9k1W",
        "colab_type": "code",
        "outputId": "a7f0e5ae-d231-44bf-f00b-7adaefac9d67",
        "colab": {
          "base_uri": "https://localhost:8080/",
          "height": 85
        }
      },
      "cell_type": "code",
      "source": [
        "male_names = names.words('male.txt')\n",
        "female_names = names.words('female.txt')\n",
        " \n",
        "print (len(male_names)) # Output: 2943\n",
        "print (len(female_names)) # Output: 5001\n",
        " \n",
        "# print 15 female names\n",
        "print (female_names[1200:1215]) \n",
        " \n",
        "# print 15 male names\n",
        "print (male_names[1200:1215])"
      ],
      "execution_count": 3,
      "outputs": [
        {
          "output_type": "stream",
          "text": [
            "2943\n",
            "5001\n",
            "['Danita', 'Danna', 'Danni', 'Dannie', 'Danny', 'Dannye', 'Danya', 'Danyelle', 'Danyette', 'Daphene', 'Daphna', 'Daphne', 'Dara', 'Darb', 'Darbie']\n",
            "['Howard', 'Howie', 'Hoyt', 'Hubert', 'Hudson', 'Huey', 'Hugh', 'Hugo', 'Humbert', 'Humphrey', 'Hunt', 'Hunter', 'Huntington', 'Huntlee', 'Huntley']\n"
          ],
          "name": "stdout"
        }
      ]
    },
    {
      "metadata": {
        "id": "ia6PexHxqRAf",
        "colab_type": "text"
      },
      "cell_type": "markdown",
      "source": [
        "**Feature Extraction**\n",
        "\n",
        "To classify the text into any category, we need to define some criteria. On the basis of those criteria, our classifier will learn that a particular kind of text falls in a particular category. This kind of criteria is known as feature. We can define one or more feature to train our classifier.\n",
        "\n",
        "In this example, we will use the last letter of the names as the feature.\n",
        "\n",
        "We will define a function that extracts the last letter of any provided word. The function will return a dictionary containing the last letter information of the given word."
      ]
    },
    {
      "metadata": {
        "id": "T5GSU4FTnxRr",
        "colab_type": "code",
        "outputId": "8bdd22d0-f65b-43a0-eb9c-5ccaa5424a40",
        "colab": {
          "base_uri": "https://localhost:8080/",
          "height": 34
        }
      },
      "cell_type": "code",
      "source": [
        "def gender_features(word):\n",
        "    return {'last_letter' : word[-1:]}\n",
        "\n",
        "print (gender_features('Nipun')) # Output: {'last_letter': 'n'}"
      ],
      "execution_count": 4,
      "outputs": [
        {
          "output_type": "stream",
          "text": [
            "{'last_letter': 'n'}\n"
          ],
          "name": "stdout"
        }
      ]
    },
    {
      "metadata": {
        "id": "zU2dq4eLrvev",
        "colab_type": "text"
      },
      "cell_type": "markdown",
      "source": [
        "The dictionary returned by the above function is called a feature set. This feature set is used to train the classifier.\n",
        "\n",
        "We will now create a feature set using all the male and female names.\n",
        "\n",
        "For this, we first combine the male and female names and shuffle the combined array."
      ]
    },
    {
      "metadata": {
        "id": "4wJ8qKPNnxXn",
        "colab_type": "code",
        "outputId": "3cc79c20-8ee7-4063-cf6c-fa46fc1bb639",
        "colab": {
          "base_uri": "https://localhost:8080/",
          "height": 71
        }
      },
      "cell_type": "code",
      "source": [
        "from nltk.corpus import names \n",
        "import random \n",
        " \n",
        "names_masculine = names.words('male.txt')\n",
        "names_feminine = names.words('female.txt')\n",
        "\n",
        "labeled_names_feminine = [(str(name), 'female') for name in names_feminine]\n",
        " \n",
        "# printing  15 labeled female names\n",
        "print (labeled_names_feminine[1200:1215])\n",
        "print('No of Female names :',len(labeled_names_feminine))\n",
        "\n"
      ],
      "execution_count": 5,
      "outputs": [
        {
          "output_type": "stream",
          "text": [
            "[('Danita', 'female'), ('Danna', 'female'), ('Danni', 'female'), ('Dannie', 'female'), ('Danny', 'female'), ('Dannye', 'female'), ('Danya', 'female'), ('Danyelle', 'female'), ('Danyette', 'female'), ('Daphene', 'female'), ('Daphna', 'female'), ('Daphne', 'female'), ('Dara', 'female'), ('Darb', 'female'), ('Darbie', 'female')]\n",
            "No of Female names : 5001\n"
          ],
          "name": "stdout"
        }
      ]
    },
    {
      "metadata": {
        "id": "Xx_BHaUjDeWU",
        "colab_type": "code",
        "outputId": "8b5cd3f8-78f8-4912-c29a-142d2bc2fa37",
        "colab": {
          "base_uri": "https://localhost:8080/",
          "height": 71
        }
      },
      "cell_type": "code",
      "source": [
        "labeled_names_masculine = [(str(name), 'male') for name in names_masculine]\n",
        " \n",
        "# printing  15 labeled male names\n",
        "print (labeled_names_masculine[1200:1215])\n",
        "print('No of Male names :',len(labeled_names_masculine))\n",
        " "
      ],
      "execution_count": 6,
      "outputs": [
        {
          "output_type": "stream",
          "text": [
            "[('Howard', 'male'), ('Howie', 'male'), ('Hoyt', 'male'), ('Hubert', 'male'), ('Hudson', 'male'), ('Huey', 'male'), ('Hugh', 'male'), ('Hugo', 'male'), ('Humbert', 'male'), ('Humphrey', 'male'), ('Hunt', 'male'), ('Hunter', 'male'), ('Huntington', 'male'), ('Huntlee', 'male'), ('Huntley', 'male')]\n",
            "No of Male names : 2943\n"
          ],
          "name": "stdout"
        }
      ]
    },
    {
      "metadata": {
        "id": "1kw17hBUDfv9",
        "colab_type": "code",
        "outputId": "1f6a186d-ac4c-44c5-e85c-2774f0551fce",
        "colab": {
          "base_uri": "https://localhost:8080/",
          "height": 34
        }
      },
      "cell_type": "code",
      "source": [
        "# combine labeled male and labeled female names\n",
        "labeled_all_names = labeled_names_masculine + labeled_names_feminine\n",
        "print('Total Names : ',len(labeled_all_names))"
      ],
      "execution_count": 7,
      "outputs": [
        {
          "output_type": "stream",
          "text": [
            "Total Names :  7944\n"
          ],
          "name": "stdout"
        }
      ]
    },
    {
      "metadata": {
        "id": "Z9nyOProDiIa",
        "colab_type": "code",
        "outputId": "f180dbe6-603f-48e8-8234-ae0e84f15f32",
        "colab": {
          "base_uri": "https://localhost:8080/",
          "height": 54
        }
      },
      "cell_type": "code",
      "source": [
        "# shuffle the labeled names array\n",
        "random.shuffle(labeled_all_names)\n",
        " \n",
        "# printing  10 labeled all/combined names\n",
        "print (labeled_all_names[1200:1215])"
      ],
      "execution_count": 8,
      "outputs": [
        {
          "output_type": "stream",
          "text": [
            "[('Reggy', 'male'), ('Yetty', 'female'), ('Reginauld', 'male'), ('Noble', 'male'), ('Spence', 'male'), ('Walter', 'male'), ('Drew', 'female'), ('Mahmud', 'male'), ('Selby', 'male'), ('Tabbitha', 'female'), ('Barnabe', 'male'), ('Lisetta', 'female'), ('Jannelle', 'female'), ('Fredi', 'female'), ('Orazio', 'male')]\n"
          ],
          "name": "stdout"
        }
      ]
    },
    {
      "metadata": {
        "id": "0IIN5ja3sjf5",
        "colab_type": "text"
      },
      "cell_type": "markdown",
      "source": [
        "**Extracting Feature & Creating Feature Set**\n",
        "\n",
        "We use the gender_features function that we defined above to extract the feature from the labeled names data. As mentioned above, the feature for this example will be the last letter of the names. So, we extract the last letter of all the labeled names and create a new array with the last letter of each name and the associated label for that particular name. This new array is called the feature set."
      ]
    },
    {
      "metadata": {
        "id": "ZRvchnM3nxaw",
        "colab_type": "code",
        "outputId": "d9ca2137-6821-42aa-b207-8e63178848c5",
        "colab": {
          "base_uri": "https://localhost:8080/",
          "height": 71
        }
      },
      "cell_type": "code",
      "source": [
        "feature_set = [(gender_features(name), gender) for (name, gender) in labeled_all_names]\n",
        " \n",
        "print (labeled_all_names[:15])\n",
        "\n",
        "print (feature_set[:15])"
      ],
      "execution_count": 9,
      "outputs": [
        {
          "output_type": "stream",
          "text": [
            "[('Arvie', 'male'), ('Prasun', 'male'), ('Marc', 'male'), ('Salome', 'female'), ('Roana', 'female'), ('Judas', 'male'), ('Harv', 'male'), ('Cissie', 'female'), ('Krystle', 'female'), ('Amie', 'female'), ('Tiertza', 'female'), ('Gerianne', 'female'), ('Orsola', 'female'), ('Lela', 'female'), ('Kalle', 'male')]\n",
            "[({'last_letter': 'e'}, 'male'), ({'last_letter': 'n'}, 'male'), ({'last_letter': 'c'}, 'male'), ({'last_letter': 'e'}, 'female'), ({'last_letter': 'a'}, 'female'), ({'last_letter': 's'}, 'male'), ({'last_letter': 'v'}, 'male'), ({'last_letter': 'e'}, 'female'), ({'last_letter': 'e'}, 'female'), ({'last_letter': 'e'}, 'female'), ({'last_letter': 'a'}, 'female'), ({'last_letter': 'e'}, 'female'), ({'last_letter': 'a'}, 'female'), ({'last_letter': 'a'}, 'female'), ({'last_letter': 'e'}, 'male')]\n"
          ],
          "name": "stdout"
        }
      ]
    },
    {
      "metadata": {
        "id": "J24K6WR0tr6u",
        "colab_type": "text"
      },
      "cell_type": "markdown",
      "source": [
        "**Training Classifier**\n",
        "\n",
        "From the feature set we created above, we now create a separate training set and a separate testing/validation set. The train set is used to train the classifier and the test set is used to test the classifier to check how accurately it classifies the given text.\n",
        "\n",
        "**Creating Train and Test Dataset**\n",
        "\n",
        "Now we will be splitting the dataset using scikit learn test-train split. \n",
        "We split data in 80/20 percentage split between training and testing set, i.e. 80 percent training set and 20 percent testing set.\n",
        "\n",
        "test_size : = 0.25 represents the percent of test samples, rest is training set\n",
        "\n",
        "random_state : 73 The seed used by the random number generator"
      ]
    },
    {
      "metadata": {
        "id": "gjQ2S_conxeI",
        "colab_type": "code",
        "outputId": "3a5f0da3-db6f-4a51-cf76-23b7201fcf91",
        "colab": {
          "base_uri": "https://localhost:8080/",
          "height": 51
        }
      },
      "cell_type": "code",
      "source": [
        "from sklearn.model_selection import train_test_split\n",
        "train_set, test_set = train_test_split(feature_set, test_size=0.20, random_state=73)\n",
        "\n",
        "print ('Train set Length',len(train_set)) # Output: 6355\n",
        "print ('Test set Length',len(test_set)) # Output: 1589"
      ],
      "execution_count": 10,
      "outputs": [
        {
          "output_type": "stream",
          "text": [
            "Train set Length 6355\n",
            "Test set Length 1589\n"
          ],
          "name": "stdout"
        }
      ]
    },
    {
      "metadata": {
        "id": "L7kjM0RvuKZT",
        "colab_type": "text"
      },
      "cell_type": "markdown",
      "source": [
        "**Training a Classifier**\n",
        "\n",
        "Now, we train a classifier using the training dataset. There are different kind of classifiers namely Naive Bayes Classifier, Maximum Entropy Classifier, Decision Tree Classifier, Support Vector Machine Classifier, etc.\n",
        "\n",
        "In this example, we use the Naive Bayes Classifier. It’s a simple, fast, and easy classifier which performs well for small datasets. It’s a simple probabilistic classifier based on applying Bayes’ theorem. Bayes’ theorem describes the probability of an event, based on prior knowledge of conditions that might be related to the event."
      ]
    },
    {
      "metadata": {
        "id": "SixfPVihn6WJ",
        "colab_type": "code",
        "colab": {}
      },
      "cell_type": "code",
      "source": [
        "\n",
        "from nltk import NaiveBayesClassifier\n",
        "classifier = NaiveBayesClassifier.train(train_set)"
      ],
      "execution_count": 0,
      "outputs": []
    },
    {
      "metadata": {
        "id": "GlRJZmA3uQPs",
        "colab_type": "text"
      },
      "cell_type": "markdown",
      "source": [
        "**Testing the trained Classifier**\n",
        "\n",
        "Let’s see the output of the classifier by providing some names to it."
      ]
    },
    {
      "metadata": {
        "id": "K2QW6tUyn6ZH",
        "colab_type": "code",
        "outputId": "fe35e4f7-73b1-45aa-cde2-482c486e59d2",
        "colab": {
          "base_uri": "https://localhost:8080/",
          "height": 51
        }
      },
      "cell_type": "code",
      "source": [
        "print (classifier.classify(gender_features('Nipun'))) # Output: male\n",
        " \n",
        "print (classifier.classify(gender_features('Roxie'))) # Output: female"
      ],
      "execution_count": 12,
      "outputs": [
        {
          "output_type": "stream",
          "text": [
            "male\n",
            "female\n"
          ],
          "name": "stdout"
        }
      ]
    },
    {
      "metadata": {
        "id": "KmDZevPIuVyu",
        "colab_type": "text"
      },
      "cell_type": "markdown",
      "source": [
        "Let’s see the accuracy percentage of the trained classifier. The accuracy value changes each time you run the program because of the names array being shuffled above.\n",
        "\n"
      ]
    },
    {
      "metadata": {
        "id": "AnR-pHvln6b_",
        "colab_type": "code",
        "outputId": "7e45fda0-419d-4358-8db4-adc420dbf12a",
        "colab": {
          "base_uri": "https://localhost:8080/",
          "height": 34
        }
      },
      "cell_type": "code",
      "source": [
        "from nltk import classify \n",
        " \n",
        "accuracy = classify.accuracy(classifier, test_set)\n",
        " \n",
        "print (accuracy)"
      ],
      "execution_count": 13,
      "outputs": [
        {
          "output_type": "stream",
          "text": [
            "0.7426054122089364\n"
          ],
          "name": "stdout"
        }
      ]
    },
    {
      "metadata": {
        "id": "cNjXkMI9ugSy",
        "colab_type": "text"
      },
      "cell_type": "markdown",
      "source": [
        "Let’s see the most informative features among the entire features in the feature set.\n",
        "\n",
        "The result shows that the names ending with letter “a” are females 40.3 times more often than they are female but the names ending with the letter “k” are males 39.0 times more often than they are male. Similarly, for other letters. These ratios are also called likelihood ratios.\n",
        "\n",
        "Therefore, if you provide a name ending with letter “k” to the above trained classifier then it will predict it as “male” and if you provide a name ending with the letter “a” to the classifier then it will predict it as “female”.\n"
      ]
    },
    {
      "metadata": {
        "id": "afZZWG10n6e5",
        "colab_type": "code",
        "outputId": "e7a593bf-7d91-4a5a-b4fc-03017b4289fc",
        "colab": {
          "base_uri": "https://localhost:8080/",
          "height": 187
        }
      },
      "cell_type": "code",
      "source": [
        "\n",
        "# show 5 most informative features\n",
        "print (classifier.show_most_informative_features(5))\n",
        "\n",
        "print ('Rock : ',classifier.classify(gender_features('Rock'))) # Output: male\n",
        "\n",
        "print ('Sara : ',classifier.classify(gender_features('Sara'))) # Output: female\n",
        "\n",
        "print ('Nipun : ',classifier.classify(gender_features('Nipun'))) # Output: male\n"
      ],
      "execution_count": 14,
      "outputs": [
        {
          "output_type": "stream",
          "text": [
            "Most Informative Features\n",
            "             last_letter = 'a'            female : male   =     40.3 : 1.0\n",
            "             last_letter = 'k'              male : female =     39.0 : 1.0\n",
            "             last_letter = 'f'              male : female =     12.8 : 1.0\n",
            "             last_letter = 'd'              male : female =     11.0 : 1.0\n",
            "             last_letter = 'p'              male : female =     10.0 : 1.0\n",
            "None\n",
            "Rock :  male\n",
            "Sara :  female\n",
            "Nipun :  male\n"
          ],
          "name": "stdout"
        }
      ]
    },
    {
      "metadata": {
        "id": "7LGidBDquo4a",
        "colab_type": "text"
      },
      "cell_type": "markdown",
      "source": [
        "**Note**:\n",
        "We can modify the *gender_features* function to generate the feature set which can improve the accuracy of the trained classifier. \n",
        "For example,\n",
        "we can use last two letters instead of 1\n",
        "or we can use both first and last letter of the names as the feature.\n",
        "Feature extractors are built through a process of trial-and-error & guided by intuitions."
      ]
    }
  ]
}