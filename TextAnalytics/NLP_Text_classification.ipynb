{
  "nbformat": 4,
  "nbformat_minor": 0,
  "metadata": {
    "colab": {
      "name": "NLP_Text_classification.ipynb",
      "version": "0.3.2",
      "provenance": [],
      "collapsed_sections": [],
      "include_colab_link": true
    },
    "kernelspec": {
      "name": "python3",
      "display_name": "Python 3"
    }
  },
  "cells": [
    {
      "cell_type": "markdown",
      "metadata": {
        "id": "view-in-github",
        "colab_type": "text"
      },
      "source": [
        "<a href=\"https://colab.research.google.com/github/jainnipun/MachineLearning/blob/master/TextAnalytics/NLP_Text_classification.ipynb\" target=\"_parent\"><img src=\"https://colab.research.google.com/assets/colab-badge.svg\" alt=\"Open In Colab\"/></a>"
      ]
    },
    {
      "metadata": {
        "id": "VVv4MAOTpyBJ",
        "colab_type": "text"
      },
      "cell_type": "markdown",
      "source": [
        "#Natural Language Processing (NLP)"
      ]
    },
    {
      "metadata": {
        "id": "j_-ZFWO1-AyZ",
        "colab_type": "text"
      },
      "cell_type": "markdown",
      "source": [
        "## Text Classification"
      ]
    },
    {
      "metadata": {
        "id": "puMtCKWdvHvj",
        "colab_type": "text"
      },
      "cell_type": "markdown",
      "source": [
        "**Identifying wether a name is of a Male or Female **"
      ]
    },
    {
      "metadata": {
        "id": "CzrO3jlhpu5q",
        "colab_type": "text"
      },
      "cell_type": "markdown",
      "source": [
        "I am using the NLTK’s names corpus as the labeled training data. The names corpus contains a total of around 8K male and female names. \n",
        "It’s compiled by Kantrowitz, Ross.\n",
        "\n",
        "So, we have two categories for classification. They are male and female. Our training data (the “names” corpus) has names that are already labeled as male and names that are already labeled as female."
      ]
    },
    {
      "metadata": {
        "id": "txKKVW2ZnnVB",
        "colab_type": "code",
        "outputId": "075d482a-62b9-4b80-bedb-cbcfe908609e",
        "colab": {
          "base_uri": "https://localhost:8080/",
          "height": 68
        }
      },
      "cell_type": "code",
      "source": [
        "import nltk\n",
        "nltk.download('names')"
      ],
      "execution_count": 0,
      "outputs": [
        {
          "output_type": "stream",
          "text": [
            "[nltk_data] Downloading package names to /root/nltk_data...\n",
            "[nltk_data]   Unzipping corpora/names.zip.\n"
          ],
          "name": "stdout"
        },
        {
          "output_type": "execute_result",
          "data": {
            "text/plain": [
              "True"
            ]
          },
          "metadata": {
            "tags": []
          },
          "execution_count": 1
        }
      ]
    },
    {
      "metadata": {
        "id": "sWFqMakWnbWZ",
        "colab_type": "code",
        "outputId": "02424588-a8ab-4b10-a2a5-b8e92c2c3e0f",
        "colab": {
          "base_uri": "https://localhost:8080/",
          "height": 34
        }
      },
      "cell_type": "code",
      "source": [
        "from nltk.corpus import names \n",
        " \n",
        "#Viewing fields present in names\n",
        "print (names.fileids()) # Output: [female.txt', male.txt']names_masculine"
      ],
      "execution_count": 0,
      "outputs": [
        {
          "output_type": "stream",
          "text": [
            "['female.txt', 'male.txt']\n"
          ],
          "name": "stdout"
        }
      ]
    },
    {
      "metadata": {
        "id": "UqACRh4X9k1W",
        "colab_type": "code",
        "outputId": "e1b7f4cd-569f-4871-97c8-1e35d3399179",
        "colab": {
          "base_uri": "https://localhost:8080/",
          "height": 85
        }
      },
      "cell_type": "code",
      "source": [
        "male_names = names.words('male.txt')\n",
        "female_names = names.words('female.txt')\n",
        " \n",
        "print (len(male_names)) # Output: 2943\n",
        "print (len(female_names)) # Output: 5001\n",
        " \n",
        "# print 15 female names\n",
        "print (female_names[1200:1215]) \n",
        " \n",
        "# print 15 male names\n",
        "print (male_names[1200:1215])"
      ],
      "execution_count": 0,
      "outputs": [
        {
          "output_type": "stream",
          "text": [
            "2943\n",
            "5001\n",
            "['Danita', 'Danna', 'Danni', 'Dannie', 'Danny', 'Dannye', 'Danya', 'Danyelle', 'Danyette', 'Daphene', 'Daphna', 'Daphne', 'Dara', 'Darb', 'Darbie']\n",
            "['Howard', 'Howie', 'Hoyt', 'Hubert', 'Hudson', 'Huey', 'Hugh', 'Hugo', 'Humbert', 'Humphrey', 'Hunt', 'Hunter', 'Huntington', 'Huntlee', 'Huntley']\n"
          ],
          "name": "stdout"
        }
      ]
    },
    {
      "metadata": {
        "id": "ia6PexHxqRAf",
        "colab_type": "text"
      },
      "cell_type": "markdown",
      "source": [
        "**Feature Extraction**\n",
        "\n",
        "To classify the text into any category, we need to define some criteria. On the basis of those criteria, our classifier will learn that a particular kind of text falls in a particular category. This kind of criteria is known as feature. We can define one or more feature to train our classifier.\n",
        "\n",
        "In this example, we will use the last letter of the names as the feature.\n",
        "\n",
        "We will define a function that extracts the last letter of any provided word. The function will return a dictionary containing the last letter information of the given word."
      ]
    },
    {
      "metadata": {
        "id": "T5GSU4FTnxRr",
        "colab_type": "code",
        "outputId": "7a41c692-5ca4-4fb9-f6ad-71cca0b00130",
        "colab": {
          "base_uri": "https://localhost:8080/",
          "height": 34
        }
      },
      "cell_type": "code",
      "source": [
        "def gender_features(word):\n",
        "    return {'last_letter' : word[-1]}\n",
        " \n",
        "print (gender_features('Nipun')) # Output: {'last_letter': 'n'}"
      ],
      "execution_count": 0,
      "outputs": [
        {
          "output_type": "stream",
          "text": [
            "{'last_letter': 'n'}\n"
          ],
          "name": "stdout"
        }
      ]
    },
    {
      "metadata": {
        "id": "zU2dq4eLrvev",
        "colab_type": "text"
      },
      "cell_type": "markdown",
      "source": [
        "The dictionary returned by the above function is called a feature set. This feature set is used to train the classifier.\n",
        "\n",
        "We will now create a feature set using all the male and female names.\n",
        "\n",
        "For this, we first combine the male and female names and shuffle the combined array."
      ]
    },
    {
      "metadata": {
        "id": "4wJ8qKPNnxXn",
        "colab_type": "code",
        "outputId": "3e97ca6f-a7e9-4b55-d6ad-442fa9c4c1d3",
        "colab": {
          "base_uri": "https://localhost:8080/",
          "height": 71
        }
      },
      "cell_type": "code",
      "source": [
        "from nltk.corpus import names \n",
        "import random \n",
        " \n",
        "names_masculine = names.words('male.txt')\n",
        "names_feminine = names.words('female.txt')\n",
        "\n",
        "labeled_names_feminine = [(str(name), 'female') for name in names_feminine]\n",
        " \n",
        "# printing  15 labeled female names\n",
        "print (labeled_names_feminine[1200:1215])\n",
        "print('No of Female names :',len(labeled_names_feminine))\n",
        "\n"
      ],
      "execution_count": 0,
      "outputs": [
        {
          "output_type": "stream",
          "text": [
            "[('Danita', 'female'), ('Danna', 'female'), ('Danni', 'female'), ('Dannie', 'female'), ('Danny', 'female'), ('Dannye', 'female'), ('Danya', 'female'), ('Danyelle', 'female'), ('Danyette', 'female'), ('Daphene', 'female'), ('Daphna', 'female'), ('Daphne', 'female'), ('Dara', 'female'), ('Darb', 'female'), ('Darbie', 'female')]\n",
            "No of Female names : 5001\n"
          ],
          "name": "stdout"
        }
      ]
    },
    {
      "metadata": {
        "id": "Xx_BHaUjDeWU",
        "colab_type": "code",
        "outputId": "6a8c9f14-0da8-418d-95ab-8e6b4038d129",
        "colab": {
          "base_uri": "https://localhost:8080/",
          "height": 71
        }
      },
      "cell_type": "code",
      "source": [
        "labeled_names_masculine = [(str(name), 'male') for name in names_masculine]\n",
        " \n",
        "# printing  15 labeled male names\n",
        "print (labeled_names_masculine[1200:1215])\n",
        "print('No of Male names :',len(labeled_names_masculine))\n",
        " "
      ],
      "execution_count": 0,
      "outputs": [
        {
          "output_type": "stream",
          "text": [
            "[('Howard', 'male'), ('Howie', 'male'), ('Hoyt', 'male'), ('Hubert', 'male'), ('Hudson', 'male'), ('Huey', 'male'), ('Hugh', 'male'), ('Hugo', 'male'), ('Humbert', 'male'), ('Humphrey', 'male'), ('Hunt', 'male'), ('Hunter', 'male'), ('Huntington', 'male'), ('Huntlee', 'male'), ('Huntley', 'male')]\n",
            "No of Male names : 2943\n"
          ],
          "name": "stdout"
        }
      ]
    },
    {
      "metadata": {
        "id": "1kw17hBUDfv9",
        "colab_type": "code",
        "outputId": "0811a796-ec11-45fb-f66e-62b42864162e",
        "colab": {
          "base_uri": "https://localhost:8080/",
          "height": 34
        }
      },
      "cell_type": "code",
      "source": [
        "# combine labeled male and labeled female names\n",
        "labeled_all_names = labeled_names_masculine + labeled_names_feminine\n",
        "print('Total Names : ',len(labeled_all_names))"
      ],
      "execution_count": 0,
      "outputs": [
        {
          "output_type": "stream",
          "text": [
            "Total Names :  7944\n"
          ],
          "name": "stdout"
        }
      ]
    },
    {
      "metadata": {
        "id": "Z9nyOProDiIa",
        "colab_type": "code",
        "outputId": "62dca559-1bb6-4653-f934-47239918c68a",
        "colab": {
          "base_uri": "https://localhost:8080/",
          "height": 54
        }
      },
      "cell_type": "code",
      "source": [
        "# shuffle the labeled names array\n",
        "random.shuffle(labeled_all_names)\n",
        " \n",
        "# printing  10 labeled all/combined names\n",
        "print (labeled_all_names[1200:1215])"
      ],
      "execution_count": 0,
      "outputs": [
        {
          "output_type": "stream",
          "text": [
            "[('Jared', 'male'), ('Boniface', 'male'), ('Shoshana', 'female'), ('Rosamund', 'female'), ('Regine', 'female'), ('Tailor', 'male'), ('Sorcha', 'female'), ('Cassy', 'female'), ('Thurstan', 'male'), ('Morgen', 'female'), ('Bobby', 'male'), ('Prasun', 'male'), ('Clementina', 'female'), ('Brenn', 'female'), ('Steffie', 'female')]\n"
          ],
          "name": "stdout"
        }
      ]
    },
    {
      "metadata": {
        "id": "0IIN5ja3sjf5",
        "colab_type": "text"
      },
      "cell_type": "markdown",
      "source": [
        "**Extracting Feature & Creating Feature Set**\n",
        "\n",
        "We use the gender_features function that we defined above to extract the feature from the labeled names data. As mentioned above, the feature for this example will be the last letter of the names. So, we extract the last letter of all the labeled names and create a new array with the last letter of each name and the associated label for that particular name. This new array is called the feature set."
      ]
    },
    {
      "metadata": {
        "id": "ZRvchnM3nxaw",
        "colab_type": "code",
        "outputId": "921dfef6-dd76-4592-ccad-4b8bbf3b4397",
        "colab": {
          "base_uri": "https://localhost:8080/",
          "height": 71
        }
      },
      "cell_type": "code",
      "source": [
        "feature_set = [(gender_features(name), gender) for (name, gender) in labeled_all_names]\n",
        " \n",
        "print (labeled_all_names[:15])\n",
        "\n",
        "print (feature_set[:15])"
      ],
      "execution_count": 0,
      "outputs": [
        {
          "output_type": "stream",
          "text": [
            "[('Glenna', 'female'), ('Greta', 'female'), ('Carly', 'female'), ('Kerri', 'female'), ('Astrid', 'female'), ('Roderick', 'male'), ('Mellicent', 'female'), ('Norina', 'female'), ('Alaa', 'male'), ('Agace', 'female'), ('Tova', 'female'), ('Fanchon', 'female'), ('Luciana', 'female'), ('Teena', 'female'), ('Darryl', 'female')]\n",
            "[({'last_letter': 'a'}, 'female'), ({'last_letter': 'a'}, 'female'), ({'last_letter': 'y'}, 'female'), ({'last_letter': 'i'}, 'female'), ({'last_letter': 'd'}, 'female'), ({'last_letter': 'k'}, 'male'), ({'last_letter': 't'}, 'female'), ({'last_letter': 'a'}, 'female'), ({'last_letter': 'a'}, 'male'), ({'last_letter': 'e'}, 'female'), ({'last_letter': 'a'}, 'female'), ({'last_letter': 'n'}, 'female'), ({'last_letter': 'a'}, 'female'), ({'last_letter': 'a'}, 'female'), ({'last_letter': 'l'}, 'female')]\n"
          ],
          "name": "stdout"
        }
      ]
    },
    {
      "metadata": {
        "id": "J24K6WR0tr6u",
        "colab_type": "text"
      },
      "cell_type": "markdown",
      "source": [
        "**Training Classifier**\n",
        "\n",
        "From the feature set we created above, we now create a separate training set and a separate testing/validation set. The train set is used to train the classifier and the test set is used to test the classifier to check how accurately it classifies the given text.\n",
        "\n",
        "**Creating Train and Test Dataset**\n",
        "\n",
        "Now we will be splitting the dataset using scikit learn test-train split. \n",
        "We split data in 80/20 percentage split between training and testing set, i.e. 80 percent training set and 20 percent testing set.\n",
        "\n",
        "test_size : = 0.25 represents the percent of test samples, rest is training set\n",
        "\n",
        "random_state : 73 The seed used by the random number generator"
      ]
    },
    {
      "metadata": {
        "id": "gjQ2S_conxeI",
        "colab_type": "code",
        "outputId": "20a1ad3a-3a88-46c9-eda5-22be2d42ca94",
        "colab": {
          "base_uri": "https://localhost:8080/",
          "height": 51
        }
      },
      "cell_type": "code",
      "source": [
        "from sklearn.model_selection import train_test_split\n",
        "train_set, test_set = train_test_split(feature_set, test_size=0.20, random_state=73)\n",
        "\n",
        "print ('Train set Length',len(train_set)) # Output: 6355\n",
        "print ('Test set Length',len(test_set)) # Output: 1589"
      ],
      "execution_count": 0,
      "outputs": [
        {
          "output_type": "stream",
          "text": [
            "Train set Length 6355\n",
            "Test set Length 1589\n"
          ],
          "name": "stdout"
        }
      ]
    },
    {
      "metadata": {
        "id": "L7kjM0RvuKZT",
        "colab_type": "text"
      },
      "cell_type": "markdown",
      "source": [
        "**Training a Classifier**\n",
        "\n",
        "Now, we train a classifier using the training dataset. There are different kind of classifiers namely Naive Bayes Classifier, Maximum Entropy Classifier, Decision Tree Classifier, Support Vector Machine Classifier, etc.\n",
        "\n",
        "In this example, we use the Naive Bayes Classifier. It’s a simple, fast, and easy classifier which performs well for small datasets. It’s a simple probabilistic classifier based on applying Bayes’ theorem. Bayes’ theorem describes the probability of an event, based on prior knowledge of conditions that might be related to the event."
      ]
    },
    {
      "metadata": {
        "id": "SixfPVihn6WJ",
        "colab_type": "code",
        "colab": {}
      },
      "cell_type": "code",
      "source": [
        "\n",
        "from nltk import NaiveBayesClassifier\n",
        "classifier = NaiveBayesClassifier.train(train_set)"
      ],
      "execution_count": 0,
      "outputs": []
    },
    {
      "metadata": {
        "id": "GlRJZmA3uQPs",
        "colab_type": "text"
      },
      "cell_type": "markdown",
      "source": [
        "**Testing the trained Classifier**\n",
        "\n",
        "Let’s see the output of the classifier by providing some names to it."
      ]
    },
    {
      "metadata": {
        "id": "K2QW6tUyn6ZH",
        "colab_type": "code",
        "outputId": "cccaa74a-c358-4efb-b94f-b2b33627a42a",
        "colab": {
          "base_uri": "https://localhost:8080/",
          "height": 51
        }
      },
      "cell_type": "code",
      "source": [
        "print (classifier.classify(gender_features('Nipun'))) # Output: male\n",
        " \n",
        "print (classifier.classify(gender_features('Roxie'))) # Output: female"
      ],
      "execution_count": 0,
      "outputs": [
        {
          "output_type": "stream",
          "text": [
            "male\n",
            "female\n"
          ],
          "name": "stdout"
        }
      ]
    },
    {
      "metadata": {
        "id": "KmDZevPIuVyu",
        "colab_type": "text"
      },
      "cell_type": "markdown",
      "source": [
        "Let’s see the accuracy percentage of the trained classifier. The accuracy value changes each time you run the program because of the names array being shuffled above.\n",
        "\n"
      ]
    },
    {
      "metadata": {
        "id": "AnR-pHvln6b_",
        "colab_type": "code",
        "outputId": "9378fe88-9373-4102-870a-3f1915770046",
        "colab": {
          "base_uri": "https://localhost:8080/",
          "height": 34
        }
      },
      "cell_type": "code",
      "source": [
        "from nltk import classify \n",
        " \n",
        "accuracy = classify.accuracy(classifier, test_set)\n",
        " \n",
        "print (accuracy)"
      ],
      "execution_count": 0,
      "outputs": [
        {
          "output_type": "stream",
          "text": [
            "0.7671491504090623\n"
          ],
          "name": "stdout"
        }
      ]
    },
    {
      "metadata": {
        "id": "cNjXkMI9ugSy",
        "colab_type": "text"
      },
      "cell_type": "markdown",
      "source": [
        "Let’s see the most informative features among the entire features in the feature set.\n",
        "\n",
        "The result shows that the names ending with letter “a” are females 36.1 times more often than they are female but the names ending with the letter “k” are males 285 times more often than they are male. Similarly, for other letters. These ratios are also called likelihood ratios.\n",
        "\n",
        "Therefore, if you provide a name ending with letter “k” to the above trained classifier then it will predict it as “male” and if you provide a name ending with the letter “a” to the classifier then it will predict it as “female”.\n"
      ]
    },
    {
      "metadata": {
        "id": "afZZWG10n6e5",
        "colab_type": "code",
        "outputId": "75e4776d-b682-4fda-d56f-5e9cdc9e66a0",
        "colab": {
          "base_uri": "https://localhost:8080/",
          "height": 187
        }
      },
      "cell_type": "code",
      "source": [
        "\n",
        "# show 5 most informative features\n",
        "print (classifier.show_most_informative_features(5))\n",
        "\n",
        "print ('Rock : ',classifier.classify(gender_features('Rock'))) # Output: male\n",
        "\n",
        "print ('Sara : ',classifier.classify(gender_features('Sara'))) # Output: female\n",
        "\n",
        "print ('Nipun : ',classifier.classify(gender_features('Nipun'))) # Output: male\n"
      ],
      "execution_count": 0,
      "outputs": [
        {
          "output_type": "stream",
          "text": [
            "Most Informative Features\n",
            "             last_letter = 'k'              male : female =     37.8 : 1.0\n",
            "             last_letter = 'a'            female : male   =     32.9 : 1.0\n",
            "             last_letter = 'p'              male : female =     16.5 : 1.0\n",
            "             last_letter = 'f'              male : female =     15.3 : 1.0\n",
            "             last_letter = 'd'              male : female =      9.7 : 1.0\n",
            "None\n",
            "Rock :  male\n",
            "Sara :  female\n",
            "Nipun :  male\n"
          ],
          "name": "stdout"
        }
      ]
    },
    {
      "metadata": {
        "id": "7LGidBDquo4a",
        "colab_type": "text"
      },
      "cell_type": "markdown",
      "source": [
        "**Note**:\n",
        "We can modify the *gender_features* function to generate the feature set which can improve the accuracy of the trained classifier. For example, we can use both first and last letter of the names as the feature.\n",
        "Feature extractors are built through a process of trial-and-error & guided by intuitions."
      ]
    }
  ]
}